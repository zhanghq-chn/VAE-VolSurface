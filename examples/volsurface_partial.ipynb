{
 "cells": [
  {
   "cell_type": "code",
   "execution_count": 1,
   "id": "4bac5403",
   "metadata": {},
   "outputs": [
    {
     "name": "stderr",
     "output_type": "stream",
     "text": [
      "/Users/zhanghq/miniconda3/envs/vae-volsurface/lib/python3.10/site-packages/tqdm/auto.py:21: TqdmWarning: IProgress not found. Please update jupyter and ipywidgets. See https://ipywidgets.readthedocs.io/en/stable/user_install.html\n",
      "  from .autonotebook import tqdm as notebook_tqdm\n",
      "2025-04-18 12:05:48,801\tINFO util.py:154 -- Missing packages: ['ipywidgets']. Run `pip install -U ipywidgets`, then restart the notebook server for rich notebook output.\n",
      "2025-04-18 12:05:48,895\tINFO util.py:154 -- Missing packages: ['ipywidgets']. Run `pip install -U ipywidgets`, then restart the notebook server for rich notebook output.\n"
     ]
    }
   ],
   "source": [
    "import sys\n",
    "import os\n",
    "from dotenv import load_dotenv\n",
    "load_dotenv()\n",
    "sys.path.insert(0, os.getenv('SRC_PATH'))\n",
    "\n",
    "import numpy as np\n",
    "import pandas as pd\n",
    "import seaborn as sns\n",
    "import sqlite3\n",
    "from src.volsurface import GridInterpVolSurface, KernelVolSurface\n",
    "from src.utils.data_helper import clean_data, VolSurfPointwiseDataset\n",
    "\n",
    "import torch\n",
    "from torch.utils.data import DataLoader, TensorDataset\n",
    "from torchvision import transforms\n",
    "from src.train import Trainer\n",
    "\n",
    "import json\n",
    "\n",
    "DB_PATH = os.getenv('DB_PATH')\n",
    "CSV_PATH = os.getenv('CSV_PATH')\n",
    "conn = sqlite3.connect(DB_PATH)\n",
    "cursor = conn.cursor()\n",
    "\n",
    "pd.set_option('future.no_silent_downcasting', True)"
   ]
  },
  {
   "cell_type": "code",
   "execution_count": 2,
   "id": "97803b58",
   "metadata": {},
   "outputs": [],
   "source": [
    "from src.utils.logger import setup_logger\n",
    "logger = setup_logger('train')"
   ]
  },
  {
   "cell_type": "code",
   "execution_count": 3,
   "id": "8bc75605",
   "metadata": {},
   "outputs": [
    {
     "name": "stderr",
     "output_type": "stream",
     "text": [
      "[2025-04-18 11:56:13] [INFO] src.utils.data_helper (49) : Bad data - Filtered 1110238 rows, Retained sample 76.67%\n",
      "[2025-04-18 11:56:25] [INFO] src.utils.data_helper (62) : Consecutive trading stats completed\n",
      "[2025-04-18 11:56:27] [INFO] src.utils.data_helper (85) : Consecutive trading - Filtered 2341950 rows, Retained sample 35.81%\n",
      "[2025-04-18 11:56:27] [INFO] src.utils.data_helper (90) : Moneyness calculation completed\n"
     ]
    }
   ],
   "source": [
    "query = \"\"\"\n",
    "SELECT date, symbol, exdate, last_date, cp_flag, strike_price, best_bid, best_offer, volume, open_interest, impl_volatility, delta\n",
    "FROM opprc\n",
    "\"\"\"\n",
    "dtype = {\n",
    "    'symbol': 'string',\n",
    "    'cp_flag': 'string',\n",
    "    'strike_price': 'float64',\n",
    "    'best_bid': 'float64',\n",
    "    'best_offer': 'float64',\n",
    "    'volume': 'int64',\n",
    "    'open_interest': 'int64',\n",
    "    'impl_volatility': 'float64',\n",
    "    'delta': 'float64'\n",
    "}\n",
    "df_raw = pd.read_sql_query(query, conn, parse_dates=['date', 'exdate', 'last_date'])\n",
    "df_raw = df_raw.replace('', np.nan) # sqlite returns empty strings for NULL values\n",
    "df_raw = df_raw.astype(dtype)\n",
    "\n",
    "df = clean_data(df_raw)"
   ]
  },
  {
   "cell_type": "code",
   "execution_count": 3,
   "id": "532eef3d",
   "metadata": {},
   "outputs": [],
   "source": [
    "model_name = \"vae_pw_improve\"\n",
    "train_model = True\n",
    "load_model = False\n",
    "save_model = False\n",
    "data_dir = CSV_PATH + \"/predicted_vol_surfaces.json\"  # Path to the volatility surfaces dataset\n",
    "batch_size = 32\n",
    "epochs = 4"
   ]
  },
  {
   "cell_type": "code",
   "execution_count": 4,
   "id": "37d9fb75",
   "metadata": {},
   "outputs": [],
   "source": [
    "maturity_grid = np.array([1, 7, 30, 60, 90, 180, 360, 720])\n",
    "delta_grid = np.array([0.1, 0.2, 0.3, 0.4, 0.5, 0.6, 0.7, 0.8, 0.9])"
   ]
  },
  {
   "cell_type": "code",
   "execution_count": 5,
   "id": "bd07da2a",
   "metadata": {},
   "outputs": [
    {
     "name": "stderr",
     "output_type": "stream",
     "text": [
      "[2025-04-18 12:05:55] [INFO] src.train (62) : Using device: mps\n"
     ]
    }
   ],
   "source": [
    "SRC_PATH = os.getenv('SRC_PATH')\n",
    "os.chdir(SRC_PATH)\n",
    "trainer = Trainer(model_name)\n",
    "trainer.create_model()"
   ]
  },
  {
   "cell_type": "code",
   "execution_count": 7,
   "id": "a9231ced",
   "metadata": {},
   "outputs": [],
   "source": [
    "with open(data_dir, \"r\") as f:\n",
    "    data = json.load(f)"
   ]
  },
  {
   "cell_type": "code",
   "execution_count": 8,
   "id": "d43f4230",
   "metadata": {},
   "outputs": [],
   "source": [
    "mapping_ids = {dt: i for i, dt in enumerate(sorted(map(lambda x: x[:10], data.keys())))}"
   ]
  },
  {
   "cell_type": "code",
   "execution_count": 9,
   "id": "5f4deb14",
   "metadata": {},
   "outputs": [],
   "source": [
    "df['mapping_ids'] = df['date'].dt.strftime('%Y-%m-%d').map(mapping_ids)"
   ]
  },
  {
   "cell_type": "code",
   "execution_count": 10,
   "id": "25a02a5e",
   "metadata": {},
   "outputs": [],
   "source": [
    "vol_surfaces = []\n",
    "for key in sorted(data.keys()):\n",
    "    surface = torch.tensor(data[key], dtype=torch.float32)\n",
    "    vol_surfaces.append(surface.flatten())  # Flatten 2D to 1D\n",
    "\n",
    "data_tensor = torch.stack(vol_surfaces)\n",
    "pw_grid_data = torch.tensor(df[['ttm', 'moneyness']].values, dtype=torch.float32)\n",
    "# !only for test run\n",
    "pw_grid_data[:, 0] = pw_grid_data[:, 0] / 365.0\n",
    "pw_vol_data = torch.tensor(df['impl_volatility'].values, dtype=torch.float32)\n",
    "mapping_ids = torch.tensor(df['mapping_ids'].values).long()\n",
    "\n",
    "assert data_tensor.shape[0] == max(mapping_ids) + 1"
   ]
  },
  {
   "cell_type": "code",
   "execution_count": 11,
   "id": "346edf63",
   "metadata": {},
   "outputs": [],
   "source": [
    "dataset = VolSurfPointwiseDataset(pw_grid_data, pw_vol_data, data_tensor, mapping_ids)\n",
    "train_loader = DataLoader(\n",
    "    dataset, \n",
    "    batch_size=trainer.batch_size,\n",
    "    shuffle=True\n",
    ")"
   ]
  },
  {
   "cell_type": "code",
   "execution_count": 13,
   "id": "58019df9",
   "metadata": {},
   "outputs": [
    {
     "name": "stderr",
     "output_type": "stream",
     "text": [
      "[2025-04-18 11:58:16] [INFO] train (3) : Epoch 1/4\n",
      "[2025-04-18 11:59:33] [INFO] src.train (181) : Loss: 0.0063\n",
      "[2025-04-18 11:59:33] [INFO] train (3) : Epoch 2/4\n",
      "[2025-04-18 12:00:49] [INFO] src.train (181) : Loss: 0.0043\n",
      "[2025-04-18 12:00:49] [INFO] train (3) : Epoch 3/4\n",
      "[2025-04-18 12:02:06] [INFO] src.train (181) : Loss: 0.0040\n",
      "[2025-04-18 12:02:06] [INFO] train (3) : Epoch 4/4\n",
      "[2025-04-18 12:03:23] [INFO] src.train (181) : Loss: 0.0039\n"
     ]
    }
   ],
   "source": [
    "# Train the model\n",
    "for epoch in range(epochs):\n",
    "    logger.info(f\"Epoch {epoch + 1}/{epochs}\")\n",
    "    trainer.train(train_loader)"
   ]
  },
  {
   "cell_type": "code",
   "execution_count": 14,
   "id": "39d3fd73",
   "metadata": {},
   "outputs": [],
   "source": [
    "torch.save(trainer.model.state_dict(), f\"params/{trainer.model_name}.pth\")"
   ]
  },
  {
   "cell_type": "markdown",
   "id": "d2fe9a41",
   "metadata": {},
   "source": [
    "## Test generation"
   ]
  },
  {
   "cell_type": "code",
   "execution_count": 6,
   "id": "7c9bb1f7",
   "metadata": {},
   "outputs": [],
   "source": [
    "from src.volsurface import VAEPWVolSurface"
   ]
  },
  {
   "cell_type": "code",
   "execution_count": 7,
   "id": "3ab709de",
   "metadata": {},
   "outputs": [
    {
     "name": "stderr",
     "output_type": "stream",
     "text": [
      "[2025-04-18 12:06:04] [INFO] src.train (138) : Model loaded from params/vae_pw_improve.pth\n"
     ]
    }
   ],
   "source": [
    "trainer.load_model(\"params/vae_pw_improve.pth\")"
   ]
  },
  {
   "cell_type": "code",
   "execution_count": 8,
   "id": "fd5adad7",
   "metadata": {},
   "outputs": [],
   "source": [
    "vaevsurf = VAEPWVolSurface(trainer.model)"
   ]
  },
  {
   "cell_type": "code",
   "execution_count": 24,
   "id": "3019a439",
   "metadata": {},
   "outputs": [
    {
     "data": {
      "text/plain": [
       "array([[ 0.3757671 ,  0.37278825,  0.17734627, -0.03573316, -0.74058443,\n",
       "         0.20380884, -0.632482  ,  0.19291478],\n",
       "       [ 0.4376036 ,  0.54978806,  0.17197211,  0.16721374, -0.54719895,\n",
       "         0.21468495, -0.43909687,  0.39765185],\n",
       "       [ 0.4611993 ,  0.61716294,  0.16965374,  0.2561105 , -0.4624254 ,\n",
       "         0.21984306, -0.35432333,  0.48632354],\n",
       "       [ 0.46819577,  0.6333496 ,  0.16894221,  0.28483468, -0.4352209 ,\n",
       "         0.22131109, -0.32711846,  0.5147168 ],\n",
       "       [ 0.4732299 ,  0.64034903,  0.16863441,  0.297818  , -0.4229092 ,\n",
       "         0.22193179, -0.31480724,  0.5265611 ],\n",
       "       [ 0.4799876 ,  0.64756715,  0.16937657,  0.31154352, -0.41003722,\n",
       "         0.22269131, -0.30193502,  0.5384483 ],\n",
       "       [ 0.48800758,  0.65681016,  0.17036815,  0.32939273, -0.39424747,\n",
       "         0.22368291, -0.28614515,  0.5513165 ],\n",
       "       [ 0.49632394,  0.66735494,  0.17148271,  0.3490048 , -0.37671536,\n",
       "         0.22479746, -0.26861352,  0.56618476],\n",
       "       [ 0.50426847,  0.67837024,  0.1726091 ,  0.36873585, -0.3589806 ,\n",
       "         0.22592385, -0.25087816,  0.5812797 ]], dtype=float32)"
      ]
     },
     "execution_count": 24,
     "metadata": {},
     "output_type": "execute_result"
    }
   ],
   "source": [
    "vaevsurf.refresh()\n",
    "vaevsurf.predict_grid(delta_grid, maturity_grid)"
   ]
  }
 ],
 "metadata": {
  "kernelspec": {
   "display_name": "vae-volsurface",
   "language": "python",
   "name": "python3"
  },
  "language_info": {
   "codemirror_mode": {
    "name": "ipython",
    "version": 3
   },
   "file_extension": ".py",
   "mimetype": "text/x-python",
   "name": "python",
   "nbconvert_exporter": "python",
   "pygments_lexer": "ipython3",
   "version": "3.10.16"
  }
 },
 "nbformat": 4,
 "nbformat_minor": 5
}
