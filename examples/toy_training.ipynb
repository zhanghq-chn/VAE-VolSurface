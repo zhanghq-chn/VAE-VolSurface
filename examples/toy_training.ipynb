{
 "cells": [
  {
   "cell_type": "markdown",
   "id": "0f9e1899",
   "metadata": {},
   "source": [
    "Train grid based and pointwise vol surface vae"
   ]
  },
  {
   "cell_type": "code",
   "execution_count": 1,
   "id": "19b9b2ea",
   "metadata": {},
   "outputs": [],
   "source": [
    "import sys\n",
    "import os\n",
    "from dotenv import load_dotenv\n",
    "load_dotenv()\n",
    "sys.path.insert(0, os.getenv('SRC_PATH'))\n",
    "\n",
    "import numpy as np\n",
    "import pandas as pd\n",
    "from mpl_toolkits.mplot3d import Axes3D\n",
    "import matplotlib.pyplot as plt\n",
    "import seaborn as sns\n",
    "import sqlite3\n",
    "from src.volsurface import GridInterpVolSurface, KernelVolSurface\n",
    "\n",
    "import torch\n",
    "from torch.utils.data import DataLoader, TensorDataset\n",
    "from torchvision import transforms\n",
    "from src.train import Trainer\n",
    "\n",
    "import json"
   ]
  },
  {
   "cell_type": "code",
   "execution_count": 2,
   "id": "057eb52f",
   "metadata": {},
   "outputs": [],
   "source": [
    "CSV_PATH = os.getenv('CSV_PATH')\n",
    "SRC_PATH = os.getenv('SRC_PATH')\n",
    "os.chdir(SRC_PATH)"
   ]
  },
  {
   "cell_type": "code",
   "execution_count": 12,
   "id": "cc7cd25c",
   "metadata": {},
   "outputs": [],
   "source": [
    "from src.utils.logger import setup_logger\n",
    "\n",
    "# Set up logger\n",
    "logger = setup_logger(__name__, level=\"INFO\")"
   ]
  },
  {
   "cell_type": "markdown",
   "id": "3efae9ce",
   "metadata": {},
   "source": [
    "## grid\n"
   ]
  },
  {
   "cell_type": "code",
   "execution_count": 14,
   "id": "f5c4e621",
   "metadata": {},
   "outputs": [
    {
     "name": "stderr",
     "output_type": "stream",
     "text": [
      "[2025-04-14 23:10:15] [INFO] src.train: Using device: mps\n",
      "[2025-04-14 23:10:15] [INFO] __main__: Epoch 1/10\n",
      "[2025-04-14 23:10:15] [INFO] src.train: Loss: 7.8364\n",
      "[2025-04-14 23:10:15] [INFO] __main__: Epoch 2/10\n",
      "[2025-04-14 23:10:15] [INFO] src.train: Loss: 7.2382\n",
      "[2025-04-14 23:10:15] [INFO] __main__: Epoch 3/10\n",
      "[2025-04-14 23:10:15] [INFO] src.train: Loss: 6.7007\n",
      "[2025-04-14 23:10:15] [INFO] __main__: Epoch 4/10\n",
      "[2025-04-14 23:10:15] [INFO] src.train: Loss: 6.1634\n",
      "[2025-04-14 23:10:15] [INFO] __main__: Epoch 5/10\n",
      "[2025-04-14 23:10:15] [INFO] src.train: Loss: 5.7021\n",
      "[2025-04-14 23:10:15] [INFO] __main__: Epoch 6/10\n",
      "[2025-04-14 23:10:15] [INFO] src.train: Loss: 5.2446\n",
      "[2025-04-14 23:10:15] [INFO] __main__: Epoch 7/10\n",
      "[2025-04-14 23:10:15] [INFO] src.train: Loss: 4.7676\n",
      "[2025-04-14 23:10:15] [INFO] __main__: Epoch 8/10\n",
      "[2025-04-14 23:10:15] [INFO] src.train: Loss: 4.3850\n",
      "[2025-04-14 23:10:15] [INFO] __main__: Epoch 9/10\n",
      "[2025-04-14 23:10:15] [INFO] src.train: Loss: 3.9390\n",
      "[2025-04-14 23:10:15] [INFO] __main__: Epoch 10/10\n",
      "[2025-04-14 23:10:15] [INFO] src.train: Loss: 3.5358\n"
     ]
    }
   ],
   "source": [
    "model_name = \"vae_v2\"\n",
    "train_model = True\n",
    "load_model = False\n",
    "save_model = True\n",
    "data_dir = CSV_PATH + \"/predicted_vol_surfaces.json\"  # Path to the volatility surfaces dataset\n",
    "batch_size = 32\n",
    "epochs = 10\n",
    "\n",
    "# Initialize the trainer\n",
    "trainer = Trainer(model_name)\n",
    "\n",
    "if train_model:\n",
    "    trainer.create_model()\n",
    "\n",
    "    if load_model:\n",
    "        trainer.load_model(f\"params/{trainer.model_name}.pth\")\n",
    "    else:\n",
    "        # Create dataset\n",
    "        transform = transforms.Compose([transforms.ToTensor()])\n",
    "        # Load the JSON file\n",
    "        with open(data_dir, \"r\") as f:\n",
    "            data = json.load(f)\n",
    "\n",
    "        vol_surfaces = []\n",
    "        for key in data:\n",
    "            surface = torch.tensor(data[key], dtype=torch.float32)\n",
    "            vol_surfaces.append(surface.flatten())  # Flatten 2D to 1D\n",
    "\n",
    "        data_tensor = torch.stack(vol_surfaces)\n",
    "        dummy_labels = torch.zeros(len(data_tensor))\n",
    "\n",
    "        dataset = TensorDataset(data_tensor, dummy_labels)\n",
    "        train_loader = DataLoader(\n",
    "            dataset, \n",
    "            batch_size=trainer.batch_size,\n",
    "            shuffle=True\n",
    "        )\n",
    "\n",
    "        # Train the model\n",
    "        for epoch in range(epochs):\n",
    "            logger.info(f\"Epoch {epoch + 1}/{epochs}\")\n",
    "            trainer.train(train_loader)\n",
    "\n",
    "        if save_model:\n",
    "            torch.save(\n",
    "                trainer.model.state_dict(), f\"params/{trainer.model_name}.pth\"\n",
    "            )\n",
    "\n",
    "    # Evaluate the model\n",
    "    trainer.evaluate(\"output\")"
   ]
  },
  {
   "cell_type": "markdown",
   "id": "515e717e",
   "metadata": {},
   "source": [
    "## pointwise"
   ]
  },
  {
   "cell_type": "code",
   "execution_count": null,
   "id": "8ceec42f",
   "metadata": {},
   "outputs": [],
   "source": []
  }
 ],
 "metadata": {
  "kernelspec": {
   "display_name": "vae-volsurface",
   "language": "python",
   "name": "python3"
  },
  "language_info": {
   "codemirror_mode": {
    "name": "ipython",
    "version": 3
   },
   "file_extension": ".py",
   "mimetype": "text/x-python",
   "name": "python",
   "nbconvert_exporter": "python",
   "pygments_lexer": "ipython3",
   "version": "3.10.16"
  }
 },
 "nbformat": 4,
 "nbformat_minor": 5
}
