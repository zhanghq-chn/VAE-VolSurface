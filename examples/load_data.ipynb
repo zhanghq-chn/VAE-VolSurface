{
 "cells": [
  {
   "cell_type": "code",
   "execution_count": 1,
   "metadata": {},
   "outputs": [],
   "source": [
    "import os\n",
    "from dotenv import load_dotenv\n",
    "load_dotenv()\n",
    "\n",
    "import sqlite3\n",
    "import pandas as pd"
   ]
  },
  {
   "cell_type": "code",
   "execution_count": 2,
   "metadata": {},
   "outputs": [],
   "source": [
    "DB_PATH = os.getenv('DB_PATH')\n",
    "CSV_PATH = os.getenv('CSV_PATH')"
   ]
  },
  {
   "cell_type": "code",
   "execution_count": 3,
   "metadata": {},
   "outputs": [
    {
     "name": "stdout",
     "output_type": "stream",
     "text": [
      "['opprc', 'secprc', 'fwdprc', 'rate']\n"
     ]
    }
   ],
   "source": [
    "conn = sqlite3.connect(DB_PATH)\n",
    "cursor = conn.cursor()\n",
    "tables = pd.read_sql_query(\"SELECT name FROM sqlite_master WHERE type='table';\", conn)\n",
    "print(tables['name'].tolist())"
   ]
  },
  {
   "cell_type": "code",
   "execution_count": 11,
   "metadata": {},
   "outputs": [
    {
     "name": "stdout",
     "output_type": "stream",
     "text": [
      "         date      exdate  best_bid  best_offer  strike_price    close\n",
      "0  2022-09-01  2022-09-16    2960.2      2965.0       1000000  3966.85\n",
      "1  2022-09-01  2022-09-16    3559.0      3565.3        400000  3966.85\n",
      "2  2022-09-01  2022-09-16    3159.2      3165.5        800000  3966.85\n",
      "3  2022-09-01  2022-09-16    3228.2      3234.6       7200000  3966.85\n",
      "4  2022-09-01  2022-09-16    3428.0      3434.4       7400000  3966.85\n"
     ]
    }
   ],
   "source": [
    "# Query to get data from opprc and secprc and join them on the date column\n",
    "query = \"\"\"\n",
    "SELECT opprc.date, opprc.exdate, opprc.best_bid, opprc.best_offer, opprc.strike_price, secprc.close\n",
    "FROM opprc\n",
    "JOIN secprc ON opprc.date = secprc.date\n",
    "WHERE (opprc.best_offer - opprc.best_bid) / (opprc.best_bid + opprc.best_offer) < 0.001\n",
    "\"\"\"\n",
    "merged_df = pd.read_sql(query, conn)\n",
    "\n",
    "print(merged_df.head())\n"
   ]
  },
  {
   "cell_type": "code",
   "execution_count": 13,
   "metadata": {},
   "outputs": [
    {
     "name": "stdout",
     "output_type": "stream",
     "text": [
      "             date      exdate  best_bid  best_offer  strike_price    close\n",
      "18992  2022-09-01  2022-09-16    2960.2      2965.0       1000000  3966.85\n",
      "19207  2022-09-01  2022-09-16    3559.0      3565.3        400000  3966.85\n",
      "19398  2022-09-01  2022-09-16    3159.2      3165.5        800000  3966.85\n",
      "19803  2022-09-01  2022-09-16    3228.2      3234.6       7200000  3966.85\n",
      "19804  2022-09-01  2022-09-16    3428.0      3434.4       7400000  3966.85\n"
     ]
    }
   ],
   "source": [
    "# Read the tables into pandas dataframes\n",
    "opprc_df = pd.read_sql_query(\"SELECT date, exdate, best_bid, best_offer, strike_price FROM opprc\", conn)\n",
    "secprc_df = pd.read_sql_query(\"SELECT date, close FROM secprc\", conn)\n",
    "\n",
    "# Merge the dataframes on the 'date' column\n",
    "merged_df = pd.merge(opprc_df, secprc_df, on='date').query('(best_offer - best_bid) / (best_bid + best_offer) < 0.001')\n",
    "\n",
    "print(merged_df.head())\n"
   ]
  }
 ],
 "metadata": {
  "kernelspec": {
   "display_name": "vae-volsurface",
   "language": "python",
   "name": "python3"
  },
  "language_info": {
   "codemirror_mode": {
    "name": "ipython",
    "version": 3
   },
   "file_extension": ".py",
   "mimetype": "text/x-python",
   "name": "python",
   "nbconvert_exporter": "python",
   "pygments_lexer": "ipython3",
   "version": "3.10.16"
  }
 },
 "nbformat": 4,
 "nbformat_minor": 2
}
