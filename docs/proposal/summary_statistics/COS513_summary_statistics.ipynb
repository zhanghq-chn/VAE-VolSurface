{
  "cells": [
    {
      "cell_type": "code",
      "execution_count": 4,
      "metadata": {
        "id": "QqP4cSfnThEw"
      },
      "outputs": [],
      "source": [
        "import pandas as pd\n",
        "import numpy as np\n",
        "import matplotlib.pyplot as plt\n",
        "import seaborn as sns\n",
        "from mpl_toolkits.mplot3d import Axes3D\n",
        "from scipy.interpolate import griddata\n",
        "import datetime as dt\n",
        "from matplotlib.colors import LogNorm\n",
        "import matplotlib.dates as mdates\n",
        "from matplotlib import cm\n",
        "import warnings\n",
        "warnings.filterwarnings('ignore')\n",
        "\n",
        "import os\n",
        "import dotenv\n",
        "dotenv.load_dotenv()\n",
        "\n",
        "from pathlib import Path"
      ]
    },
    {
      "cell_type": "markdown",
      "metadata": {},
      "source": [
        "# Preprocessing"
      ]
    },
    {
      "cell_type": "code",
      "execution_count": 6,
      "metadata": {},
      "outputs": [],
      "source": [
        "CSV_OPPRC = 'optionm_spx_opprc_20220831-20230831.csv'\n",
        "CSV_PATH = Path(os.getenv('CSV_PATH'))"
      ]
    },
    {
      "cell_type": "code",
      "execution_count": 63,
      "metadata": {
        "colab": {
          "base_uri": "https://localhost:8080/",
          "height": 329
        },
        "id": "eS07vyB9UfPn",
        "outputId": "4c37aec3-b040-4853-f35c-3881b4965607"
      },
      "outputs": [
        {
          "data": {
            "application/vnd.microsoft.datawrangler.viewer.v0+json": {
              "columns": [
                {
                  "name": "index",
                  "rawType": "object",
                  "type": "string"
                },
                {
                  "name": "secid",
                  "rawType": "float64",
                  "type": "float"
                },
                {
                  "name": "symbol_flag",
                  "rawType": "float64",
                  "type": "float"
                },
                {
                  "name": "strike_price",
                  "rawType": "float64",
                  "type": "float"
                },
                {
                  "name": "best_bid",
                  "rawType": "float64",
                  "type": "float"
                },
                {
                  "name": "best_offer",
                  "rawType": "float64",
                  "type": "float"
                },
                {
                  "name": "volume",
                  "rawType": "float64",
                  "type": "float"
                },
                {
                  "name": "open_interest",
                  "rawType": "float64",
                  "type": "float"
                },
                {
                  "name": "impl_volatility",
                  "rawType": "float64",
                  "type": "float"
                },
                {
                  "name": "delta",
                  "rawType": "float64",
                  "type": "float"
                },
                {
                  "name": "gamma",
                  "rawType": "float64",
                  "type": "float"
                },
                {
                  "name": "vega",
                  "rawType": "float64",
                  "type": "float"
                },
                {
                  "name": "theta",
                  "rawType": "float64",
                  "type": "float"
                },
                {
                  "name": "optionid",
                  "rawType": "float64",
                  "type": "float"
                },
                {
                  "name": "cfadj",
                  "rawType": "float64",
                  "type": "float"
                },
                {
                  "name": "am_settlement",
                  "rawType": "float64",
                  "type": "float"
                },
                {
                  "name": "contract_size",
                  "rawType": "float64",
                  "type": "float"
                },
                {
                  "name": "ss_flag",
                  "rawType": "float64",
                  "type": "float"
                },
                {
                  "name": "forward_price",
                  "rawType": "float64",
                  "type": "float"
                },
                {
                  "name": "root",
                  "rawType": "float64",
                  "type": "float"
                },
                {
                  "name": "suffix",
                  "rawType": "float64",
                  "type": "float"
                },
                {
                  "name": "cusip",
                  "rawType": "float64",
                  "type": "float"
                },
                {
                  "name": "sic",
                  "rawType": "float64",
                  "type": "float"
                },
                {
                  "name": "index_flag",
                  "rawType": "float64",
                  "type": "float"
                },
                {
                  "name": "exchange_d",
                  "rawType": "float64",
                  "type": "float"
                },
                {
                  "name": "class",
                  "rawType": "float64",
                  "type": "float"
                },
                {
                  "name": "industry_group",
                  "rawType": "float64",
                  "type": "float"
                },
                {
                  "name": "am_set_flag",
                  "rawType": "float64",
                  "type": "float"
                }
              ],
              "conversionMethod": "pd.DataFrame",
              "ref": "1bee9a8c-e839-4efd-b55c-8868a4a637b9",
              "rows": [
                [
                  "count",
                  "4758843.0",
                  "4758843.0",
                  "4758843.0",
                  "4758843.0",
                  "4758843.0",
                  "4758843.0",
                  "4758843.0",
                  "4284172.0",
                  "4284172.0",
                  "4284172.0",
                  "4284172.0",
                  "4284172.0",
                  "4758843.0",
                  "4758843.0",
                  "4758843.0",
                  "4758843.0",
                  "4758843.0",
                  "0.0",
                  "0.0",
                  "0.0",
                  "4758843.0",
                  "4758843.0",
                  "4758843.0",
                  "4758843.0",
                  "0.0",
                  "0.0",
                  "0.0"
                ],
                [
                  "mean",
                  "108105.0",
                  "1.0",
                  "3836069.8157094065",
                  "375.0191172202994",
                  "379.499223004415",
                  "145.03668664841433",
                  "937.8472286225874",
                  "0.28555789099153833",
                  "0.09466058290890283",
                  "0.0007506154771563801",
                  "413.2218007787558",
                  "-259.0626453289809",
                  "150710840.8421982",
                  "1.0",
                  "0.3256619308516797",
                  "100.0",
                  "0.0",
                  null,
                  null,
                  null,
                  "64881510.0",
                  "9999.0",
                  "1.0",
                  "32768.0",
                  null,
                  null,
                  null
                ],
                [
                  "std",
                  "0.0",
                  "0.0",
                  "1005503.8605893591",
                  "621.8827614256796",
                  "627.9037797613192",
                  "1660.132934691069",
                  "4014.562715074099",
                  "0.2898833081322504",
                  "0.575222196476183",
                  "0.0009565353435276756",
                  "451.41883597670716",
                  "348.9383945658778",
                  "3845814.3956295922",
                  "0.0",
                  "0.46862168514978736",
                  "0.0",
                  "0.0",
                  null,
                  null,
                  null,
                  "0.0",
                  "0.0",
                  "0.0",
                  "0.0",
                  null,
                  null,
                  null
                ],
                [
                  "min",
                  "108105.0",
                  "1.0",
                  "100000.0",
                  "0.0",
                  "0.05",
                  "0.0",
                  "0.0",
                  "0.032648",
                  "-1.0",
                  "0.0",
                  "0.000282",
                  "-10730.0",
                  "131820238.0",
                  "1.0",
                  "0.0",
                  "100.0",
                  "0.0",
                  null,
                  null,
                  null,
                  "64881510.0",
                  "9999.0",
                  "1.0",
                  "32768.0",
                  null,
                  null,
                  null
                ],
                [
                  "25%",
                  "108105.0",
                  "1.0",
                  "3440000.0",
                  "14.5",
                  "14.9",
                  "0.0",
                  "1.0",
                  "0.176796",
                  "-0.242159",
                  "0.00013",
                  "72.753705",
                  "-344.390225",
                  "149116683.0",
                  "1.0",
                  "0.0",
                  "100.0",
                  "0.0",
                  null,
                  null,
                  null,
                  "64881510.0",
                  "9999.0",
                  "1.0",
                  "32768.0",
                  null,
                  null,
                  null
                ],
                [
                  "50%",
                  "108105.0",
                  "1.0",
                  "3905000.0",
                  "119.5",
                  "121.5",
                  "0.0",
                  "39.0",
                  "0.228884",
                  "-0.000301",
                  "0.00045",
                  "282.71455000000003",
                  "-190.51175",
                  "151133472.0",
                  "1.0",
                  "0.0",
                  "100.0",
                  "0.0",
                  null,
                  null,
                  null,
                  "64881510.0",
                  "9999.0",
                  "1.0",
                  "32768.0",
                  null,
                  null,
                  null
                ],
                [
                  "75%",
                  "108105.0",
                  "1.0",
                  "4300000.0",
                  "444.5",
                  "450.7",
                  "7.0",
                  "320.0",
                  "0.295462",
                  "0.64218325",
                  "0.001002",
                  "603.532775",
                  "-69.30469",
                  "153409118.0",
                  "1.0",
                  "1.0",
                  "100.0",
                  "0.0",
                  null,
                  null,
                  null,
                  "64881510.0",
                  "9999.0",
                  "1.0",
                  "32768.0",
                  null,
                  null,
                  null
                ],
                [
                  "max",
                  "108105.0",
                  "1.0",
                  "12000000.0",
                  "6456.0",
                  "6608.9",
                  "135766.0",
                  "178357.0",
                  "8.997614",
                  "0.999998",
                  "0.01995",
                  "3791.969",
                  "458.5175",
                  "156675913.0",
                  "1.0",
                  "1.0",
                  "100.0",
                  "0.0",
                  null,
                  null,
                  null,
                  "64881510.0",
                  "9999.0",
                  "1.0",
                  "32768.0",
                  null,
                  null,
                  null
                ]
              ],
              "shape": {
                "columns": 27,
                "rows": 8
              }
            },
            "text/html": [
              "<div>\n",
              "<style scoped>\n",
              "    .dataframe tbody tr th:only-of-type {\n",
              "        vertical-align: middle;\n",
              "    }\n",
              "\n",
              "    .dataframe tbody tr th {\n",
              "        vertical-align: top;\n",
              "    }\n",
              "\n",
              "    .dataframe thead th {\n",
              "        text-align: right;\n",
              "    }\n",
              "</style>\n",
              "<table border=\"1\" class=\"dataframe\">\n",
              "  <thead>\n",
              "    <tr style=\"text-align: right;\">\n",
              "      <th></th>\n",
              "      <th>secid</th>\n",
              "      <th>symbol_flag</th>\n",
              "      <th>strike_price</th>\n",
              "      <th>best_bid</th>\n",
              "      <th>best_offer</th>\n",
              "      <th>volume</th>\n",
              "      <th>open_interest</th>\n",
              "      <th>impl_volatility</th>\n",
              "      <th>delta</th>\n",
              "      <th>gamma</th>\n",
              "      <th>...</th>\n",
              "      <th>forward_price</th>\n",
              "      <th>root</th>\n",
              "      <th>suffix</th>\n",
              "      <th>cusip</th>\n",
              "      <th>sic</th>\n",
              "      <th>index_flag</th>\n",
              "      <th>exchange_d</th>\n",
              "      <th>class</th>\n",
              "      <th>industry_group</th>\n",
              "      <th>am_set_flag</th>\n",
              "    </tr>\n",
              "  </thead>\n",
              "  <tbody>\n",
              "    <tr>\n",
              "      <th>count</th>\n",
              "      <td>4758843.0</td>\n",
              "      <td>4758843.0</td>\n",
              "      <td>4.758843e+06</td>\n",
              "      <td>4.758843e+06</td>\n",
              "      <td>4.758843e+06</td>\n",
              "      <td>4.758843e+06</td>\n",
              "      <td>4.758843e+06</td>\n",
              "      <td>4.284172e+06</td>\n",
              "      <td>4.284172e+06</td>\n",
              "      <td>4.284172e+06</td>\n",
              "      <td>...</td>\n",
              "      <td>0.0</td>\n",
              "      <td>0.0</td>\n",
              "      <td>0.0</td>\n",
              "      <td>4758843.0</td>\n",
              "      <td>4758843.0</td>\n",
              "      <td>4758843.0</td>\n",
              "      <td>4758843.0</td>\n",
              "      <td>0.0</td>\n",
              "      <td>0.0</td>\n",
              "      <td>0.0</td>\n",
              "    </tr>\n",
              "    <tr>\n",
              "      <th>mean</th>\n",
              "      <td>108105.0</td>\n",
              "      <td>1.0</td>\n",
              "      <td>3.836070e+06</td>\n",
              "      <td>3.750191e+02</td>\n",
              "      <td>3.794992e+02</td>\n",
              "      <td>1.450367e+02</td>\n",
              "      <td>9.378472e+02</td>\n",
              "      <td>2.855579e-01</td>\n",
              "      <td>9.466058e-02</td>\n",
              "      <td>7.506155e-04</td>\n",
              "      <td>...</td>\n",
              "      <td>NaN</td>\n",
              "      <td>NaN</td>\n",
              "      <td>NaN</td>\n",
              "      <td>64881510.0</td>\n",
              "      <td>9999.0</td>\n",
              "      <td>1.0</td>\n",
              "      <td>32768.0</td>\n",
              "      <td>NaN</td>\n",
              "      <td>NaN</td>\n",
              "      <td>NaN</td>\n",
              "    </tr>\n",
              "    <tr>\n",
              "      <th>std</th>\n",
              "      <td>0.0</td>\n",
              "      <td>0.0</td>\n",
              "      <td>1.005504e+06</td>\n",
              "      <td>6.218828e+02</td>\n",
              "      <td>6.279038e+02</td>\n",
              "      <td>1.660133e+03</td>\n",
              "      <td>4.014563e+03</td>\n",
              "      <td>2.898833e-01</td>\n",
              "      <td>5.752222e-01</td>\n",
              "      <td>9.565353e-04</td>\n",
              "      <td>...</td>\n",
              "      <td>NaN</td>\n",
              "      <td>NaN</td>\n",
              "      <td>NaN</td>\n",
              "      <td>0.0</td>\n",
              "      <td>0.0</td>\n",
              "      <td>0.0</td>\n",
              "      <td>0.0</td>\n",
              "      <td>NaN</td>\n",
              "      <td>NaN</td>\n",
              "      <td>NaN</td>\n",
              "    </tr>\n",
              "    <tr>\n",
              "      <th>min</th>\n",
              "      <td>108105.0</td>\n",
              "      <td>1.0</td>\n",
              "      <td>1.000000e+05</td>\n",
              "      <td>0.000000e+00</td>\n",
              "      <td>5.000000e-02</td>\n",
              "      <td>0.000000e+00</td>\n",
              "      <td>0.000000e+00</td>\n",
              "      <td>3.264800e-02</td>\n",
              "      <td>-1.000000e+00</td>\n",
              "      <td>0.000000e+00</td>\n",
              "      <td>...</td>\n",
              "      <td>NaN</td>\n",
              "      <td>NaN</td>\n",
              "      <td>NaN</td>\n",
              "      <td>64881510.0</td>\n",
              "      <td>9999.0</td>\n",
              "      <td>1.0</td>\n",
              "      <td>32768.0</td>\n",
              "      <td>NaN</td>\n",
              "      <td>NaN</td>\n",
              "      <td>NaN</td>\n",
              "    </tr>\n",
              "    <tr>\n",
              "      <th>25%</th>\n",
              "      <td>108105.0</td>\n",
              "      <td>1.0</td>\n",
              "      <td>3.440000e+06</td>\n",
              "      <td>1.450000e+01</td>\n",
              "      <td>1.490000e+01</td>\n",
              "      <td>0.000000e+00</td>\n",
              "      <td>1.000000e+00</td>\n",
              "      <td>1.767960e-01</td>\n",
              "      <td>-2.421590e-01</td>\n",
              "      <td>1.300000e-04</td>\n",
              "      <td>...</td>\n",
              "      <td>NaN</td>\n",
              "      <td>NaN</td>\n",
              "      <td>NaN</td>\n",
              "      <td>64881510.0</td>\n",
              "      <td>9999.0</td>\n",
              "      <td>1.0</td>\n",
              "      <td>32768.0</td>\n",
              "      <td>NaN</td>\n",
              "      <td>NaN</td>\n",
              "      <td>NaN</td>\n",
              "    </tr>\n",
              "    <tr>\n",
              "      <th>50%</th>\n",
              "      <td>108105.0</td>\n",
              "      <td>1.0</td>\n",
              "      <td>3.905000e+06</td>\n",
              "      <td>1.195000e+02</td>\n",
              "      <td>1.215000e+02</td>\n",
              "      <td>0.000000e+00</td>\n",
              "      <td>3.900000e+01</td>\n",
              "      <td>2.288840e-01</td>\n",
              "      <td>-3.010000e-04</td>\n",
              "      <td>4.500000e-04</td>\n",
              "      <td>...</td>\n",
              "      <td>NaN</td>\n",
              "      <td>NaN</td>\n",
              "      <td>NaN</td>\n",
              "      <td>64881510.0</td>\n",
              "      <td>9999.0</td>\n",
              "      <td>1.0</td>\n",
              "      <td>32768.0</td>\n",
              "      <td>NaN</td>\n",
              "      <td>NaN</td>\n",
              "      <td>NaN</td>\n",
              "    </tr>\n",
              "    <tr>\n",
              "      <th>75%</th>\n",
              "      <td>108105.0</td>\n",
              "      <td>1.0</td>\n",
              "      <td>4.300000e+06</td>\n",
              "      <td>4.445000e+02</td>\n",
              "      <td>4.507000e+02</td>\n",
              "      <td>7.000000e+00</td>\n",
              "      <td>3.200000e+02</td>\n",
              "      <td>2.954620e-01</td>\n",
              "      <td>6.421832e-01</td>\n",
              "      <td>1.002000e-03</td>\n",
              "      <td>...</td>\n",
              "      <td>NaN</td>\n",
              "      <td>NaN</td>\n",
              "      <td>NaN</td>\n",
              "      <td>64881510.0</td>\n",
              "      <td>9999.0</td>\n",
              "      <td>1.0</td>\n",
              "      <td>32768.0</td>\n",
              "      <td>NaN</td>\n",
              "      <td>NaN</td>\n",
              "      <td>NaN</td>\n",
              "    </tr>\n",
              "    <tr>\n",
              "      <th>max</th>\n",
              "      <td>108105.0</td>\n",
              "      <td>1.0</td>\n",
              "      <td>1.200000e+07</td>\n",
              "      <td>6.456000e+03</td>\n",
              "      <td>6.608900e+03</td>\n",
              "      <td>1.357660e+05</td>\n",
              "      <td>1.783570e+05</td>\n",
              "      <td>8.997614e+00</td>\n",
              "      <td>9.999980e-01</td>\n",
              "      <td>1.995000e-02</td>\n",
              "      <td>...</td>\n",
              "      <td>NaN</td>\n",
              "      <td>NaN</td>\n",
              "      <td>NaN</td>\n",
              "      <td>64881510.0</td>\n",
              "      <td>9999.0</td>\n",
              "      <td>1.0</td>\n",
              "      <td>32768.0</td>\n",
              "      <td>NaN</td>\n",
              "      <td>NaN</td>\n",
              "      <td>NaN</td>\n",
              "    </tr>\n",
              "  </tbody>\n",
              "</table>\n",
              "<p>8 rows × 27 columns</p>\n",
              "</div>"
            ],
            "text/plain": [
              "           secid  symbol_flag  strike_price      best_bid    best_offer  \\\n",
              "count  4758843.0    4758843.0  4.758843e+06  4.758843e+06  4.758843e+06   \n",
              "mean    108105.0          1.0  3.836070e+06  3.750191e+02  3.794992e+02   \n",
              "std          0.0          0.0  1.005504e+06  6.218828e+02  6.279038e+02   \n",
              "min     108105.0          1.0  1.000000e+05  0.000000e+00  5.000000e-02   \n",
              "25%     108105.0          1.0  3.440000e+06  1.450000e+01  1.490000e+01   \n",
              "50%     108105.0          1.0  3.905000e+06  1.195000e+02  1.215000e+02   \n",
              "75%     108105.0          1.0  4.300000e+06  4.445000e+02  4.507000e+02   \n",
              "max     108105.0          1.0  1.200000e+07  6.456000e+03  6.608900e+03   \n",
              "\n",
              "             volume  open_interest  impl_volatility         delta  \\\n",
              "count  4.758843e+06   4.758843e+06     4.284172e+06  4.284172e+06   \n",
              "mean   1.450367e+02   9.378472e+02     2.855579e-01  9.466058e-02   \n",
              "std    1.660133e+03   4.014563e+03     2.898833e-01  5.752222e-01   \n",
              "min    0.000000e+00   0.000000e+00     3.264800e-02 -1.000000e+00   \n",
              "25%    0.000000e+00   1.000000e+00     1.767960e-01 -2.421590e-01   \n",
              "50%    0.000000e+00   3.900000e+01     2.288840e-01 -3.010000e-04   \n",
              "75%    7.000000e+00   3.200000e+02     2.954620e-01  6.421832e-01   \n",
              "max    1.357660e+05   1.783570e+05     8.997614e+00  9.999980e-01   \n",
              "\n",
              "              gamma  ...  forward_price  root  suffix       cusip        sic  \\\n",
              "count  4.284172e+06  ...            0.0   0.0     0.0   4758843.0  4758843.0   \n",
              "mean   7.506155e-04  ...            NaN   NaN     NaN  64881510.0     9999.0   \n",
              "std    9.565353e-04  ...            NaN   NaN     NaN         0.0        0.0   \n",
              "min    0.000000e+00  ...            NaN   NaN     NaN  64881510.0     9999.0   \n",
              "25%    1.300000e-04  ...            NaN   NaN     NaN  64881510.0     9999.0   \n",
              "50%    4.500000e-04  ...            NaN   NaN     NaN  64881510.0     9999.0   \n",
              "75%    1.002000e-03  ...            NaN   NaN     NaN  64881510.0     9999.0   \n",
              "max    1.995000e-02  ...            NaN   NaN     NaN  64881510.0     9999.0   \n",
              "\n",
              "       index_flag  exchange_d  class  industry_group  am_set_flag  \n",
              "count   4758843.0   4758843.0    0.0             0.0          0.0  \n",
              "mean          1.0     32768.0    NaN             NaN          NaN  \n",
              "std           0.0         0.0    NaN             NaN          NaN  \n",
              "min           1.0     32768.0    NaN             NaN          NaN  \n",
              "25%           1.0     32768.0    NaN             NaN          NaN  \n",
              "50%           1.0     32768.0    NaN             NaN          NaN  \n",
              "75%           1.0     32768.0    NaN             NaN          NaN  \n",
              "max           1.0     32768.0    NaN             NaN          NaN  \n",
              "\n",
              "[8 rows x 27 columns]"
            ]
          },
          "execution_count": 63,
          "metadata": {},
          "output_type": "execute_result"
        }
      ],
      "source": [
        "dat_raw = pd.read_csv(CSV_PATH / CSV_OPPRC)\n",
        "dat_raw.describe()"
      ]
    },
    {
      "cell_type": "code",
      "execution_count": 64,
      "metadata": {},
      "outputs": [],
      "source": [
        "idx_filter_bid = dat_raw['best_bid'] > 0.0\n",
        "idx_filter_spread = dat_raw['best_offer'] - dat['best_bid'] >= 0.0\n",
        "idx_filter_open_interest = dat_raw['open_interest'] > 0.0\n",
        "idx_filter_volume = dat_raw['volume'] > 0.0\n",
        "idx_filter_impl_vol = ~ dat_raw['impl_volatility'].isna()\n",
        "idx_filter_leverage = dat_raw['delta'].abs().between(*np.nanquantile(dat_raw['delta'].abs(), [0.01, 0.99]))\n",
        "\n",
        "idx_filter = (\n",
        "    idx_filter_bid & \n",
        "    idx_filter_spread & \n",
        "    idx_filter_open_interest & \n",
        "    idx_filter_volume &\n",
        "    idx_filter_impl_vol & \n",
        "    idx_filter_leverage\n",
        ")"
      ]
    },
    {
      "cell_type": "code",
      "execution_count": 65,
      "metadata": {
        "colab": {
          "base_uri": "https://localhost:8080/"
        },
        "id": "_aiqw_3FZBfP",
        "outputId": "30336b52-60eb-4d35-ea95-13fb3932bd15"
      },
      "outputs": [
        {
          "data": {
            "text/plain": [
              "Index(['secid', 'date', 'symbol', 'symbol_flag', 'exdate', 'last_date',\n",
              "       'cp_flag', 'strike_price', 'best_bid', 'best_offer', 'volume',\n",
              "       'open_interest', 'impl_volatility', 'delta', 'gamma', 'vega', 'theta',\n",
              "       'optionid', 'cfadj', 'am_settlement', 'contract_size', 'ss_flag',\n",
              "       'forward_price', 'expiry_indicator', 'root', 'suffix', 'cusip',\n",
              "       'ticker', 'sic', 'index_flag', 'exchange_d', 'class', 'issue_type',\n",
              "       'industry_group', 'issuer', 'div_convention', 'exercise_style',\n",
              "       'am_set_flag'],\n",
              "      dtype='object')"
            ]
          },
          "execution_count": 65,
          "metadata": {},
          "output_type": "execute_result"
        }
      ],
      "source": [
        "dat_raw.columns"
      ]
    },
    {
      "cell_type": "code",
      "execution_count": 66,
      "metadata": {
        "id": "G0CH0oJxXe3j"
      },
      "outputs": [],
      "source": [
        "dat = dat_raw[idx_filter]\n",
        "columns_to_keep = ['date', 'exdate', 'last_date',\n",
        "       'cp_flag', 'strike_price', 'best_bid', 'best_offer', 'volume',\n",
        "       'open_interest', 'impl_volatility', 'delta', 'gamma', 'vega', 'theta',\n",
        "       'optionid', 'forward_price', 'expiry_indicator']\n",
        "dat = dat[columns_to_keep]"
      ]
    },
    {
      "cell_type": "code",
      "execution_count": 67,
      "metadata": {
        "colab": {
          "base_uri": "https://localhost:8080/",
          "height": 206
        },
        "id": "62lEaid7X4di",
        "outputId": "d4f0cd53-a7b5-45f5-e47b-61711e21cac3"
      },
      "outputs": [
        {
          "data": {
            "application/vnd.microsoft.datawrangler.viewer.v0+json": {
              "columns": [
                {
                  "name": "index",
                  "rawType": "int64",
                  "type": "integer"
                },
                {
                  "name": "date",
                  "rawType": "object",
                  "type": "string"
                },
                {
                  "name": "exdate",
                  "rawType": "object",
                  "type": "string"
                },
                {
                  "name": "last_date",
                  "rawType": "object",
                  "type": "string"
                },
                {
                  "name": "cp_flag",
                  "rawType": "object",
                  "type": "string"
                },
                {
                  "name": "strike_price",
                  "rawType": "int64",
                  "type": "integer"
                },
                {
                  "name": "best_bid",
                  "rawType": "float64",
                  "type": "float"
                },
                {
                  "name": "best_offer",
                  "rawType": "float64",
                  "type": "float"
                },
                {
                  "name": "volume",
                  "rawType": "int64",
                  "type": "integer"
                },
                {
                  "name": "open_interest",
                  "rawType": "int64",
                  "type": "integer"
                },
                {
                  "name": "impl_volatility",
                  "rawType": "float64",
                  "type": "float"
                },
                {
                  "name": "delta",
                  "rawType": "float64",
                  "type": "float"
                },
                {
                  "name": "gamma",
                  "rawType": "float64",
                  "type": "float"
                },
                {
                  "name": "vega",
                  "rawType": "float64",
                  "type": "float"
                },
                {
                  "name": "theta",
                  "rawType": "float64",
                  "type": "float"
                },
                {
                  "name": "optionid",
                  "rawType": "int64",
                  "type": "integer"
                },
                {
                  "name": "forward_price",
                  "rawType": "float64",
                  "type": "float"
                },
                {
                  "name": "expiry_indicator",
                  "rawType": "object",
                  "type": "unknown"
                }
              ],
              "conversionMethod": "pd.DataFrame",
              "ref": "e9e8a26a-c268-4fd4-a8c4-43dd73b928df",
              "rows": [
                [
                  "11",
                  "2022-08-31",
                  "2022-09-16",
                  "2022-08-31",
                  "C",
                  "2000000",
                  "1951.5",
                  "1966.5",
                  "100",
                  "25327",
                  "1.383671",
                  "0.994984",
                  "1.3e-05",
                  "11.62559",
                  "-245.8305",
                  "140913041",
                  null,
                  null
                ],
                [
                  "35",
                  "2022-08-31",
                  "2022-09-16",
                  "2022-08-31",
                  "C",
                  "2950000",
                  "1006.0",
                  "1012.5",
                  "38",
                  "38",
                  "0.607293",
                  "0.992885",
                  "4.1e-05",
                  "15.85008",
                  "-191.1057",
                  "140913055",
                  null,
                  null
                ],
                [
                  "38",
                  "2022-08-31",
                  "2022-09-16",
                  "2022-08-31",
                  "C",
                  "3000000",
                  "957.0",
                  "964.9",
                  "100",
                  "21020",
                  "0.647943",
                  "0.985284",
                  "7.2e-05",
                  "29.86871",
                  "-309.9203",
                  "140913057",
                  null,
                  null
                ],
                [
                  "115",
                  "2022-08-31",
                  "2022-09-16",
                  "2022-08-31",
                  "C",
                  "3500000",
                  "460.7",
                  "468.0",
                  "15",
                  "1837",
                  "0.368167",
                  "0.954373",
                  "0.000325",
                  "76.84763",
                  "-428.1782",
                  "140913077",
                  null,
                  null
                ],
                [
                  "130",
                  "2022-08-31",
                  "2022-09-16",
                  "2022-08-31",
                  "C",
                  "3575000",
                  "388.3",
                  "395.1",
                  "1",
                  "38",
                  "0.340467",
                  "0.934883",
                  "0.000465",
                  "101.8008",
                  "-505.5322",
                  "140913080",
                  null,
                  null
                ]
              ],
              "shape": {
                "columns": 17,
                "rows": 5
              }
            },
            "text/html": [
              "<div>\n",
              "<style scoped>\n",
              "    .dataframe tbody tr th:only-of-type {\n",
              "        vertical-align: middle;\n",
              "    }\n",
              "\n",
              "    .dataframe tbody tr th {\n",
              "        vertical-align: top;\n",
              "    }\n",
              "\n",
              "    .dataframe thead th {\n",
              "        text-align: right;\n",
              "    }\n",
              "</style>\n",
              "<table border=\"1\" class=\"dataframe\">\n",
              "  <thead>\n",
              "    <tr style=\"text-align: right;\">\n",
              "      <th></th>\n",
              "      <th>date</th>\n",
              "      <th>exdate</th>\n",
              "      <th>last_date</th>\n",
              "      <th>cp_flag</th>\n",
              "      <th>strike_price</th>\n",
              "      <th>best_bid</th>\n",
              "      <th>best_offer</th>\n",
              "      <th>volume</th>\n",
              "      <th>open_interest</th>\n",
              "      <th>impl_volatility</th>\n",
              "      <th>delta</th>\n",
              "      <th>gamma</th>\n",
              "      <th>vega</th>\n",
              "      <th>theta</th>\n",
              "      <th>optionid</th>\n",
              "      <th>forward_price</th>\n",
              "      <th>expiry_indicator</th>\n",
              "    </tr>\n",
              "  </thead>\n",
              "  <tbody>\n",
              "    <tr>\n",
              "      <th>11</th>\n",
              "      <td>2022-08-31</td>\n",
              "      <td>2022-09-16</td>\n",
              "      <td>2022-08-31</td>\n",
              "      <td>C</td>\n",
              "      <td>2000000</td>\n",
              "      <td>1951.5</td>\n",
              "      <td>1966.5</td>\n",
              "      <td>100</td>\n",
              "      <td>25327</td>\n",
              "      <td>1.383671</td>\n",
              "      <td>0.994984</td>\n",
              "      <td>0.000013</td>\n",
              "      <td>11.62559</td>\n",
              "      <td>-245.8305</td>\n",
              "      <td>140913041</td>\n",
              "      <td>NaN</td>\n",
              "      <td>NaN</td>\n",
              "    </tr>\n",
              "    <tr>\n",
              "      <th>35</th>\n",
              "      <td>2022-08-31</td>\n",
              "      <td>2022-09-16</td>\n",
              "      <td>2022-08-31</td>\n",
              "      <td>C</td>\n",
              "      <td>2950000</td>\n",
              "      <td>1006.0</td>\n",
              "      <td>1012.5</td>\n",
              "      <td>38</td>\n",
              "      <td>38</td>\n",
              "      <td>0.607293</td>\n",
              "      <td>0.992885</td>\n",
              "      <td>0.000041</td>\n",
              "      <td>15.85008</td>\n",
              "      <td>-191.1057</td>\n",
              "      <td>140913055</td>\n",
              "      <td>NaN</td>\n",
              "      <td>NaN</td>\n",
              "    </tr>\n",
              "    <tr>\n",
              "      <th>38</th>\n",
              "      <td>2022-08-31</td>\n",
              "      <td>2022-09-16</td>\n",
              "      <td>2022-08-31</td>\n",
              "      <td>C</td>\n",
              "      <td>3000000</td>\n",
              "      <td>957.0</td>\n",
              "      <td>964.9</td>\n",
              "      <td>100</td>\n",
              "      <td>21020</td>\n",
              "      <td>0.647943</td>\n",
              "      <td>0.985284</td>\n",
              "      <td>0.000072</td>\n",
              "      <td>29.86871</td>\n",
              "      <td>-309.9203</td>\n",
              "      <td>140913057</td>\n",
              "      <td>NaN</td>\n",
              "      <td>NaN</td>\n",
              "    </tr>\n",
              "    <tr>\n",
              "      <th>115</th>\n",
              "      <td>2022-08-31</td>\n",
              "      <td>2022-09-16</td>\n",
              "      <td>2022-08-31</td>\n",
              "      <td>C</td>\n",
              "      <td>3500000</td>\n",
              "      <td>460.7</td>\n",
              "      <td>468.0</td>\n",
              "      <td>15</td>\n",
              "      <td>1837</td>\n",
              "      <td>0.368167</td>\n",
              "      <td>0.954373</td>\n",
              "      <td>0.000325</td>\n",
              "      <td>76.84763</td>\n",
              "      <td>-428.1782</td>\n",
              "      <td>140913077</td>\n",
              "      <td>NaN</td>\n",
              "      <td>NaN</td>\n",
              "    </tr>\n",
              "    <tr>\n",
              "      <th>130</th>\n",
              "      <td>2022-08-31</td>\n",
              "      <td>2022-09-16</td>\n",
              "      <td>2022-08-31</td>\n",
              "      <td>C</td>\n",
              "      <td>3575000</td>\n",
              "      <td>388.3</td>\n",
              "      <td>395.1</td>\n",
              "      <td>1</td>\n",
              "      <td>38</td>\n",
              "      <td>0.340467</td>\n",
              "      <td>0.934883</td>\n",
              "      <td>0.000465</td>\n",
              "      <td>101.80080</td>\n",
              "      <td>-505.5322</td>\n",
              "      <td>140913080</td>\n",
              "      <td>NaN</td>\n",
              "      <td>NaN</td>\n",
              "    </tr>\n",
              "  </tbody>\n",
              "</table>\n",
              "</div>"
            ],
            "text/plain": [
              "           date      exdate   last_date cp_flag  strike_price  best_bid  \\\n",
              "11   2022-08-31  2022-09-16  2022-08-31       C       2000000    1951.5   \n",
              "35   2022-08-31  2022-09-16  2022-08-31       C       2950000    1006.0   \n",
              "38   2022-08-31  2022-09-16  2022-08-31       C       3000000     957.0   \n",
              "115  2022-08-31  2022-09-16  2022-08-31       C       3500000     460.7   \n",
              "130  2022-08-31  2022-09-16  2022-08-31       C       3575000     388.3   \n",
              "\n",
              "     best_offer  volume  open_interest  impl_volatility     delta     gamma  \\\n",
              "11       1966.5     100          25327         1.383671  0.994984  0.000013   \n",
              "35       1012.5      38             38         0.607293  0.992885  0.000041   \n",
              "38        964.9     100          21020         0.647943  0.985284  0.000072   \n",
              "115       468.0      15           1837         0.368167  0.954373  0.000325   \n",
              "130       395.1       1             38         0.340467  0.934883  0.000465   \n",
              "\n",
              "          vega     theta   optionid  forward_price expiry_indicator  \n",
              "11    11.62559 -245.8305  140913041            NaN              NaN  \n",
              "35    15.85008 -191.1057  140913055            NaN              NaN  \n",
              "38    29.86871 -309.9203  140913057            NaN              NaN  \n",
              "115   76.84763 -428.1782  140913077            NaN              NaN  \n",
              "130  101.80080 -505.5322  140913080            NaN              NaN  "
            ]
          },
          "execution_count": 67,
          "metadata": {},
          "output_type": "execute_result"
        }
      ],
      "source": [
        "dat.head()\n"
      ]
    },
    {
      "cell_type": "code",
      "execution_count": 68,
      "metadata": {
        "colab": {
          "base_uri": "https://localhost:8080/",
          "height": 300
        },
        "id": "W3I04-rPY1CU",
        "outputId": "d0012031-6d42-4afc-e2d4-bfc7e25a612d"
      },
      "outputs": [
        {
          "data": {
            "application/vnd.microsoft.datawrangler.viewer.v0+json": {
              "columns": [
                {
                  "name": "index",
                  "rawType": "object",
                  "type": "string"
                },
                {
                  "name": "strike_price",
                  "rawType": "float64",
                  "type": "float"
                },
                {
                  "name": "best_bid",
                  "rawType": "float64",
                  "type": "float"
                },
                {
                  "name": "best_offer",
                  "rawType": "float64",
                  "type": "float"
                },
                {
                  "name": "volume",
                  "rawType": "float64",
                  "type": "float"
                },
                {
                  "name": "open_interest",
                  "rawType": "float64",
                  "type": "float"
                },
                {
                  "name": "impl_volatility",
                  "rawType": "float64",
                  "type": "float"
                },
                {
                  "name": "delta",
                  "rawType": "float64",
                  "type": "float"
                },
                {
                  "name": "gamma",
                  "rawType": "float64",
                  "type": "float"
                },
                {
                  "name": "vega",
                  "rawType": "float64",
                  "type": "float"
                },
                {
                  "name": "theta",
                  "rawType": "float64",
                  "type": "float"
                },
                {
                  "name": "optionid",
                  "rawType": "float64",
                  "type": "float"
                },
                {
                  "name": "forward_price",
                  "rawType": "float64",
                  "type": "float"
                }
              ],
              "conversionMethod": "pd.DataFrame",
              "ref": "ec24ad03-2931-453c-a93f-352a3e226b24",
              "rows": [
                [
                  "count",
                  "1636495.0",
                  "1636495.0",
                  "1636495.0",
                  "1636495.0",
                  "1636495.0",
                  "1636495.0",
                  "1636495.0",
                  "1636495.0",
                  "1636495.0",
                  "1636495.0",
                  "1636495.0",
                  "0.0"
                ],
                [
                  "mean",
                  "3913679.699601893",
                  "77.86836110101163",
                  "78.90218353859927",
                  "221.47894738450162",
                  "1931.1128307755293",
                  "0.23696288664065576",
                  "0.006325571158482001",
                  "0.0011476186679458228",
                  "368.19610198850467",
                  "-355.07557724472537",
                  "150731535.28350163",
                  null
                ],
                [
                  "std",
                  "606288.5856390673",
                  "148.96399639989383",
                  "150.67593897446437",
                  "913.0929039124538",
                  "6018.68803708217",
                  "0.12022736694152643",
                  "0.3976665835321655",
                  "0.001263233590645353",
                  "367.2361601155471",
                  "422.03015156677793",
                  "3857948.901635599",
                  null
                ],
                [
                  "min",
                  "100000.0",
                  "0.05",
                  "0.05",
                  "1.0",
                  "1.0",
                  "0.032648",
                  "-0.995985",
                  "0.0",
                  "0.123417",
                  "-9563.833",
                  "131820252.0",
                  null
                ],
                [
                  "25%",
                  "3675000.0",
                  "5.6",
                  "5.8",
                  "4.0",
                  "61.0",
                  "0.163497",
                  "-0.21227249999999998",
                  "0.000292",
                  "91.71243999999999",
                  "-448.92155",
                  "149221913.0",
                  null
                ],
                [
                  "50%",
                  "3975000.0",
                  "32.2",
                  "32.6",
                  "19.0",
                  "247.0",
                  "0.213172",
                  "-0.017077",
                  "0.000775",
                  "271.0795",
                  "-245.4433",
                  "151174101.0",
                  null
                ],
                [
                  "75%",
                  "4250000.0",
                  "95.6",
                  "96.7",
                  "93.0",
                  "1071.0",
                  "0.2734305",
                  "0.211715",
                  "0.001581",
                  "519.4527",
                  "-118.85849999999999",
                  "153409212.0",
                  null
                ],
                [
                  "max",
                  "12000000.0",
                  "6373.0",
                  "6418.7",
                  "92743.0",
                  "178357.0",
                  "8.916361",
                  "0.995979",
                  "0.01995",
                  "3782.842",
                  "430.3924",
                  "156643276.0",
                  null
                ]
              ],
              "shape": {
                "columns": 12,
                "rows": 8
              }
            },
            "text/html": [
              "<div>\n",
              "<style scoped>\n",
              "    .dataframe tbody tr th:only-of-type {\n",
              "        vertical-align: middle;\n",
              "    }\n",
              "\n",
              "    .dataframe tbody tr th {\n",
              "        vertical-align: top;\n",
              "    }\n",
              "\n",
              "    .dataframe thead th {\n",
              "        text-align: right;\n",
              "    }\n",
              "</style>\n",
              "<table border=\"1\" class=\"dataframe\">\n",
              "  <thead>\n",
              "    <tr style=\"text-align: right;\">\n",
              "      <th></th>\n",
              "      <th>strike_price</th>\n",
              "      <th>best_bid</th>\n",
              "      <th>best_offer</th>\n",
              "      <th>volume</th>\n",
              "      <th>open_interest</th>\n",
              "      <th>impl_volatility</th>\n",
              "      <th>delta</th>\n",
              "      <th>gamma</th>\n",
              "      <th>vega</th>\n",
              "      <th>theta</th>\n",
              "      <th>optionid</th>\n",
              "      <th>forward_price</th>\n",
              "    </tr>\n",
              "  </thead>\n",
              "  <tbody>\n",
              "    <tr>\n",
              "      <th>count</th>\n",
              "      <td>1.636495e+06</td>\n",
              "      <td>1.636495e+06</td>\n",
              "      <td>1.636495e+06</td>\n",
              "      <td>1.636495e+06</td>\n",
              "      <td>1.636495e+06</td>\n",
              "      <td>1.636495e+06</td>\n",
              "      <td>1.636495e+06</td>\n",
              "      <td>1.636495e+06</td>\n",
              "      <td>1.636495e+06</td>\n",
              "      <td>1.636495e+06</td>\n",
              "      <td>1.636495e+06</td>\n",
              "      <td>0.0</td>\n",
              "    </tr>\n",
              "    <tr>\n",
              "      <th>mean</th>\n",
              "      <td>3.913680e+06</td>\n",
              "      <td>7.786836e+01</td>\n",
              "      <td>7.890218e+01</td>\n",
              "      <td>2.214789e+02</td>\n",
              "      <td>1.931113e+03</td>\n",
              "      <td>2.369629e-01</td>\n",
              "      <td>6.325571e-03</td>\n",
              "      <td>1.147619e-03</td>\n",
              "      <td>3.681961e+02</td>\n",
              "      <td>-3.550756e+02</td>\n",
              "      <td>1.507315e+08</td>\n",
              "      <td>NaN</td>\n",
              "    </tr>\n",
              "    <tr>\n",
              "      <th>std</th>\n",
              "      <td>6.062886e+05</td>\n",
              "      <td>1.489640e+02</td>\n",
              "      <td>1.506759e+02</td>\n",
              "      <td>9.130929e+02</td>\n",
              "      <td>6.018688e+03</td>\n",
              "      <td>1.202274e-01</td>\n",
              "      <td>3.976666e-01</td>\n",
              "      <td>1.263234e-03</td>\n",
              "      <td>3.672362e+02</td>\n",
              "      <td>4.220302e+02</td>\n",
              "      <td>3.857949e+06</td>\n",
              "      <td>NaN</td>\n",
              "    </tr>\n",
              "    <tr>\n",
              "      <th>min</th>\n",
              "      <td>1.000000e+05</td>\n",
              "      <td>5.000000e-02</td>\n",
              "      <td>5.000000e-02</td>\n",
              "      <td>1.000000e+00</td>\n",
              "      <td>1.000000e+00</td>\n",
              "      <td>3.264800e-02</td>\n",
              "      <td>-9.959850e-01</td>\n",
              "      <td>0.000000e+00</td>\n",
              "      <td>1.234170e-01</td>\n",
              "      <td>-9.563833e+03</td>\n",
              "      <td>1.318203e+08</td>\n",
              "      <td>NaN</td>\n",
              "    </tr>\n",
              "    <tr>\n",
              "      <th>25%</th>\n",
              "      <td>3.675000e+06</td>\n",
              "      <td>5.600000e+00</td>\n",
              "      <td>5.800000e+00</td>\n",
              "      <td>4.000000e+00</td>\n",
              "      <td>6.100000e+01</td>\n",
              "      <td>1.634970e-01</td>\n",
              "      <td>-2.122725e-01</td>\n",
              "      <td>2.920000e-04</td>\n",
              "      <td>9.171244e+01</td>\n",
              "      <td>-4.489216e+02</td>\n",
              "      <td>1.492219e+08</td>\n",
              "      <td>NaN</td>\n",
              "    </tr>\n",
              "    <tr>\n",
              "      <th>50%</th>\n",
              "      <td>3.975000e+06</td>\n",
              "      <td>3.220000e+01</td>\n",
              "      <td>3.260000e+01</td>\n",
              "      <td>1.900000e+01</td>\n",
              "      <td>2.470000e+02</td>\n",
              "      <td>2.131720e-01</td>\n",
              "      <td>-1.707700e-02</td>\n",
              "      <td>7.750000e-04</td>\n",
              "      <td>2.710795e+02</td>\n",
              "      <td>-2.454433e+02</td>\n",
              "      <td>1.511741e+08</td>\n",
              "      <td>NaN</td>\n",
              "    </tr>\n",
              "    <tr>\n",
              "      <th>75%</th>\n",
              "      <td>4.250000e+06</td>\n",
              "      <td>9.560000e+01</td>\n",
              "      <td>9.670000e+01</td>\n",
              "      <td>9.300000e+01</td>\n",
              "      <td>1.071000e+03</td>\n",
              "      <td>2.734305e-01</td>\n",
              "      <td>2.117150e-01</td>\n",
              "      <td>1.581000e-03</td>\n",
              "      <td>5.194527e+02</td>\n",
              "      <td>-1.188585e+02</td>\n",
              "      <td>1.534092e+08</td>\n",
              "      <td>NaN</td>\n",
              "    </tr>\n",
              "    <tr>\n",
              "      <th>max</th>\n",
              "      <td>1.200000e+07</td>\n",
              "      <td>6.373000e+03</td>\n",
              "      <td>6.418700e+03</td>\n",
              "      <td>9.274300e+04</td>\n",
              "      <td>1.783570e+05</td>\n",
              "      <td>8.916361e+00</td>\n",
              "      <td>9.959790e-01</td>\n",
              "      <td>1.995000e-02</td>\n",
              "      <td>3.782842e+03</td>\n",
              "      <td>4.303924e+02</td>\n",
              "      <td>1.566433e+08</td>\n",
              "      <td>NaN</td>\n",
              "    </tr>\n",
              "  </tbody>\n",
              "</table>\n",
              "</div>"
            ],
            "text/plain": [
              "       strike_price      best_bid    best_offer        volume  open_interest  \\\n",
              "count  1.636495e+06  1.636495e+06  1.636495e+06  1.636495e+06   1.636495e+06   \n",
              "mean   3.913680e+06  7.786836e+01  7.890218e+01  2.214789e+02   1.931113e+03   \n",
              "std    6.062886e+05  1.489640e+02  1.506759e+02  9.130929e+02   6.018688e+03   \n",
              "min    1.000000e+05  5.000000e-02  5.000000e-02  1.000000e+00   1.000000e+00   \n",
              "25%    3.675000e+06  5.600000e+00  5.800000e+00  4.000000e+00   6.100000e+01   \n",
              "50%    3.975000e+06  3.220000e+01  3.260000e+01  1.900000e+01   2.470000e+02   \n",
              "75%    4.250000e+06  9.560000e+01  9.670000e+01  9.300000e+01   1.071000e+03   \n",
              "max    1.200000e+07  6.373000e+03  6.418700e+03  9.274300e+04   1.783570e+05   \n",
              "\n",
              "       impl_volatility         delta         gamma          vega  \\\n",
              "count     1.636495e+06  1.636495e+06  1.636495e+06  1.636495e+06   \n",
              "mean      2.369629e-01  6.325571e-03  1.147619e-03  3.681961e+02   \n",
              "std       1.202274e-01  3.976666e-01  1.263234e-03  3.672362e+02   \n",
              "min       3.264800e-02 -9.959850e-01  0.000000e+00  1.234170e-01   \n",
              "25%       1.634970e-01 -2.122725e-01  2.920000e-04  9.171244e+01   \n",
              "50%       2.131720e-01 -1.707700e-02  7.750000e-04  2.710795e+02   \n",
              "75%       2.734305e-01  2.117150e-01  1.581000e-03  5.194527e+02   \n",
              "max       8.916361e+00  9.959790e-01  1.995000e-02  3.782842e+03   \n",
              "\n",
              "              theta      optionid  forward_price  \n",
              "count  1.636495e+06  1.636495e+06            0.0  \n",
              "mean  -3.550756e+02  1.507315e+08            NaN  \n",
              "std    4.220302e+02  3.857949e+06            NaN  \n",
              "min   -9.563833e+03  1.318203e+08            NaN  \n",
              "25%   -4.489216e+02  1.492219e+08            NaN  \n",
              "50%   -2.454433e+02  1.511741e+08            NaN  \n",
              "75%   -1.188585e+02  1.534092e+08            NaN  \n",
              "max    4.303924e+02  1.566433e+08            NaN  "
            ]
          },
          "execution_count": 68,
          "metadata": {},
          "output_type": "execute_result"
        }
      ],
      "source": [
        "# desriptive analysis\n",
        "dat.describe()"
      ]
    },
    {
      "cell_type": "code",
      "execution_count": 69,
      "metadata": {
        "id": "4TrU7HGsaGgb"
      },
      "outputs": [],
      "source": [
        "date_cols = ['date', 'exdate', 'last_date']\n",
        "for col in date_cols:\n",
        "    dat[col] = pd.to_datetime(dat[col])\n",
        "\n",
        "# Create time to expiry column (in days)\n",
        "dat['time_to_expiry'] = (dat['exdate'] - dat['date']).dt.days\n",
        "\n",
        "# Create bid-ask spread columns\n",
        "dat['bid_ask_spread'] = dat['best_offer'] - dat['best_bid']\n",
        "dat['bid_ask_spread_pct'] = (dat['best_offer'] - dat['best_bid']) / ((dat['best_offer'] + dat['best_bid'])/2) * 100\n",
        "\n",
        "# Fill NaN values in expiry_indicator with 'regular'\n",
        "dat['expiry_indicator'] = dat['expiry_indicator'].fillna('regular')\n",
        "dat.loc[dat['expiry_indicator'] == ' ', 'expiry_indicator'] = 'regular'"
      ]
    },
    {
      "cell_type": "markdown",
      "metadata": {},
      "source": [
        "# Density plots"
      ]
    },
    {
      "cell_type": "markdown",
      "metadata": {},
      "source": [
        "## Open interest and vlm by ttm and delta"
      ]
    },
    {
      "cell_type": "code",
      "execution_count": 78,
      "metadata": {},
      "outputs": [],
      "source": [
        "# Define the delta brackets\n",
        "delta_brackets = pd.cut(dat['delta'].abs(), bins=np.linspace(0, 1, 11), labels=[f'({i:.1f},{i+0.1:.1f}]' for i in np.linspace(0, 0.9, 10)])\n"
      ]
    },
    {
      "cell_type": "code",
      "execution_count": 80,
      "metadata": {},
      "outputs": [],
      "source": [
        "# Filter data for the specified time to expiry\n",
        "expiry_30 = dat[dat['time_to_expiry'] <= 30]\n",
        "expiry_90 = dat[(dat['time_to_expiry'] > 30) & (dat['time_to_expiry'] <= 90)]\n",
        "expiry_180 = dat[(dat['time_to_expiry'] > 90) & (dat['time_to_expiry'] <= 180)]"
      ]
    },
    {
      "cell_type": "code",
      "execution_count": 81,
      "metadata": {},
      "outputs": [],
      "source": [
        "# Group by delta brackets and calculate total open interest\n",
        "open_interest_30 = expiry_30.groupby(delta_brackets)['open_interest'].sum().reset_index(name='1M')\n",
        "open_interest_90 = expiry_90.groupby(delta_brackets)['open_interest'].sum().reset_index(name='3M')\n",
        "open_interest_180 = expiry_180.groupby(delta_brackets)['open_interest'].sum().reset_index(name='6M')"
      ]
    },
    {
      "cell_type": "code",
      "execution_count": 93,
      "metadata": {},
      "outputs": [],
      "source": [
        "# Merge the dataframes\n",
        "open_interest_combined = pd.concat([\n",
        "        open_interest_30.set_index('delta'), \n",
        "        open_interest_90.set_index('delta'), \n",
        "        open_interest_180.set_index('delta')\n",
        "    ], axis=1, join='outer').reset_index()"
      ]
    },
    {
      "cell_type": "code",
      "execution_count": 120,
      "metadata": {},
      "outputs": [
        {
          "data": {
            "image/png": "[encoded data removed]",
            "text/plain": [
              "<Figure size 800x400 with 1 Axes>"
            ]
          },
          "metadata": {},
          "output_type": "display_data"
        }
      ],
      "source": [
        "# Plot the data using seaborn\n",
        "fig, ax = plt.subplots(figsize=(8, 4))\n",
        "open_interest_combined_melted = open_interest_combined.melt(id_vars='delta', var_name='Time to Expiry', value_name='Total Open Interest')\n",
        "sns.set_palette('deep')\n",
        "sns.barplot(data=open_interest_combined_melted, x='delta', y='Total Open Interest', hue='Time to Expiry', ax=ax, alpha=0.8)\n",
        "ax.set_xlabel('Abs. Delta')\n",
        "ax.set_ylabel('Total Open Interest')\n",
        "plt.tight_layout()\n",
        "plt.show()\n",
        "# plt.savefig('open_interest_by_delta_brackets.png')\n",
        "# plt.close()"
      ]
    },
    {
      "cell_type": "code",
      "execution_count": 103,
      "metadata": {},
      "outputs": [],
      "source": [
        "# Define the delta brackets\n",
        "delta_brackets = pd.cut(dat['delta'].abs(), bins=np.linspace(0, 1, 11), labels=[f'({i:.1f},{i+0.1:.1f}]' for i in np.linspace(0, 0.9, 10)])"
      ]
    },
    {
      "cell_type": "code",
      "execution_count": 104,
      "metadata": {},
      "outputs": [],
      "source": [
        "# Filter data for the specified time to expiry\n",
        "expiry_30 = dat[dat['time_to_expiry'] <= 30]\n",
        "expiry_90 = dat[(dat['time_to_expiry'] > 30) & (dat['time_to_expiry'] <= 90)]\n",
        "expiry_180 = dat[(dat['time_to_expiry'] > 90) & (dat['time_to_expiry'] <= 180)]"
      ]
    },
    {
      "cell_type": "code",
      "execution_count": 105,
      "metadata": {},
      "outputs": [],
      "source": [
        "# Group by delta brackets and calculate total open interest\n",
        "vlm_30 = expiry_30.groupby(delta_brackets)['volume'].mean().reset_index(name='1M')\n",
        "vlm_90 = expiry_90.groupby(delta_brackets)['volume'].mean().reset_index(name='3M')\n",
        "vlm_180 = expiry_180.groupby(delta_brackets)['volume'].mean().reset_index(name='6M')"
      ]
    },
    {
      "cell_type": "code",
      "execution_count": 106,
      "metadata": {},
      "outputs": [],
      "source": [
        "# Merge the dataframes\n",
        "vlm_combined = pd.concat([\n",
        "        vlm_30.set_index('delta'), \n",
        "        vlm_90.set_index('delta'), \n",
        "        vlm_180.set_index('delta')\n",
        "    ], axis=1, join='outer').reset_index()"
      ]
    },
    {
      "cell_type": "code",
      "execution_count": 121,
      "metadata": {},
      "outputs": [
        {
          "data": {
            "image/png": "[encoded data removed]",
            "text/plain": [
              "<Figure size 800x400 with 1 Axes>"
            ]
          },
          "metadata": {},
          "output_type": "display_data"
        }
      ],
      "source": [
        "# Plot the data using seaborn\n",
        "fig, ax = plt.subplots(figsize=(8, 4))\n",
        "vlm_combined_melted = vlm_combined.melt(id_vars='delta', var_name='Time to Expiry', value_name='Average Volume')\n",
        "sns.set_palette('deep')\n",
        "sns.barplot(data=vlm_combined_melted, x='delta', y='Average Volume', hue='Time to Expiry', ax=ax, alpha=0.8)\n",
        "ax.set_xlabel('Abs. Delta')\n",
        "ax.set_ylabel('Average Volume')\n",
        "plt.tight_layout()\n",
        "plt.show()\n",
        "# plt.savefig('open_interest_by_delta_brackets.png')\n",
        "# plt.close()"
      ]
    },
    {
      "cell_type": "markdown",
      "metadata": {},
      "source": [
        "## Others"
      ]
    },
    {
      "cell_type": "code",
      "execution_count": 70,
      "metadata": {
        "id": "Bq0YwE1ihMwJ"
      },
      "outputs": [],
      "source": [
        "# Create a function for density plots\n",
        "def create_density_plots(data, columns, hue=None):\n",
        "    n = len(columns)\n",
        "    fig, axes = plt.subplots(n, 1, figsize=(12, 4*n))\n",
        "\n",
        "    for i, col in enumerate(columns):\n",
        "        if hue is None:\n",
        "            sns.kdeplot(data=data, x=col, fill=True, ax=axes[i])\n",
        "        else:\n",
        "            sns.kdeplot(data=data, x=col, hue=hue, fill=True, common_norm=False, ax=axes[i])\n",
        "\n",
        "        axes[i].set_title(f'Density Plot of {col}')\n",
        "        axes[i].set_xlabel(col)\n",
        "        axes[i].set_ylabel('Density')\n",
        "\n",
        "    plt.tight_layout()\n",
        "    return fig"
      ]
    },
    {
      "cell_type": "code",
      "execution_count": 71,
      "metadata": {
        "id": "IOF1iFMzcqVW"
      },
      "outputs": [],
      "source": [
        "# 1. Density plots of key metrics\n",
        "metrics = ['impl_volatility', 'volume', 'delta', 'gamma', 'vega', 'theta']\n",
        "\n",
        "# Overall density plots\n",
        "fig_density = create_density_plots(dat, metrics)\n",
        "plt.savefig('density_plots_overall.png')\n",
        "plt.close()\n",
        "# Density plots by expiry indicator\n",
        "fig_density_by_expiry = create_density_plots(dat, metrics, hue='expiry_indicator')\n",
        "plt.savefig('density_plots_by_expiry.png')\n",
        "plt.close()"
      ]
    },
    {
      "cell_type": "code",
      "execution_count": 72,
      "metadata": {
        "id": "MrUQo9EHefqn"
      },
      "outputs": [],
      "source": [
        "# 2. Analysis of bid-ask spread\n",
        "fig, ax = plt.subplots(figsize=(12, 8))\n",
        "\n",
        "# Histogram of percentage bid-ask spread\n",
        "sns.histplot(data=dat, x='bid_ask_spread_pct', kde=True)\n",
        "ax.set_title('Distribution of Bid-Ask Spread (%)')\n",
        "ax.set_xlabel('Spread (%)')\n",
        "ax.set_ylabel('Count')\n",
        "\n",
        "plt.tight_layout()\n",
        "plt.savefig('bid_ask_spread_analysis.png')\n",
        "plt.close()\n",
        "\n",
        "# Bid-ask spread by strike price and time to expiry\n",
        "fig, ax = plt.subplots(figsize=(12, 8))\n",
        "scatter = ax.scatter(dat['strike_price'], dat['time_to_expiry'],\n",
        "                     c=dat['bid_ask_spread_pct'], cmap='viridis',\n",
        "                     alpha=0.6, s=dat['volume']/100, norm=LogNorm())\n",
        "ax.set_title('Bid-Ask Spread (%) by Strike Price and Time to Expiry')\n",
        "ax.set_xlabel('Strike Price')\n",
        "ax.set_ylabel('Time to Expiry (days)')\n",
        "plt.colorbar(scatter, label='Bid-Ask Spread (%)')\n",
        "plt.savefig('bid_ask_spread_by_strike_expiry.png')\n",
        "plt.close()\n"
      ]
    },
    {
      "cell_type": "markdown",
      "metadata": {},
      "source": [
        "# Vol"
      ]
    },
    {
      "cell_type": "markdown",
      "metadata": {},
      "source": [
        "## Surface"
      ]
    },
    {
      "cell_type": "code",
      "execution_count": 110,
      "metadata": {},
      "outputs": [
        {
          "name": "stdout",
          "output_type": "stream",
          "text": [
            "Top 5 dates with highest trading volume:\n",
            "          date   volume\n",
            "131 2023-03-10  2359735\n",
            "16  2022-09-23  2269301\n",
            "208 2023-06-30  2267439\n",
            "189 2023-06-02  2036707\n",
            "30  2022-10-13  2020963\n"
          ]
        }
      ],
      "source": [
        "daily_volume = dat.groupby('date')['volume'].sum().reset_index()\n",
        "high_volume_dates = daily_volume.nlargest(5, 'volume')\n",
        "print(\"Top 5 dates with highest trading volume:\")\n",
        "print(high_volume_dates)"
      ]
    },
    {
      "cell_type": "code",
      "execution_count": 126,
      "metadata": {
        "id": "GkHRWLvRiOpA"
      },
      "outputs": [],
      "source": [
        "def plot_vol_surface(data, date):\n",
        "    # Filter data for the specific date and call options\n",
        "    date_data = data[(data['date'] == date) & (data['cp_flag'] == 'C')]\n",
        "\n",
        "    if len(date_data) < 10:  # Ensure we have enough data points\n",
        "        print(f\"Not enough data for date {date}\")\n",
        "        return None\n",
        "\n",
        "    # Remove outliers that might distort the surface\n",
        "    q1 = date_data['impl_volatility'].quantile(0.05)\n",
        "    q3 = date_data['impl_volatility'].quantile(0.95)\n",
        "    iqr = q3 - q1\n",
        "    lower_bound = q1 - 1.5 * iqr\n",
        "    upper_bound = q3 + 1.5 * iqr\n",
        "    filtered_data = date_data[(date_data['impl_volatility'] >= lower_bound) &\n",
        "                              (date_data['impl_volatility'] <= upper_bound)]\n",
        "\n",
        "    # Check if we still have enough data after filtering\n",
        "    if len(filtered_data) < 10:\n",
        "        print(f\"Not enough data after outlier removal for date {date}\")\n",
        "        return None\n",
        "\n",
        "    # Sort data by strike price and time to expiry for better visualization\n",
        "    filtered_data = filtered_data.sort_values(['strike_price', 'time_to_expiry'])\n",
        "\n",
        "    # Normalize strike price to make the surface more meaningful\n",
        "    # Use moneyness (strike/forward) if available, otherwise normalize around the mean\n",
        "    if 'moneyness' in filtered_data.columns and filtered_data['moneyness'].notna().all():\n",
        "        x_values = filtered_data['moneyness'].values\n",
        "        x_label = 'Moneyness (Strike/Forward)'\n",
        "    else:\n",
        "        mean_strike = filtered_data['strike_price'].mean()\n",
        "        x_values = filtered_data['strike_price'].values / mean_strike\n",
        "        x_label = 'Normalized Strike Price'\n",
        "\n",
        "    y_values = filtered_data['time_to_expiry'].values\n",
        "    z_values = filtered_data['impl_volatility'].values\n",
        "\n",
        "    # Create a more uniform grid\n",
        "    x_min, x_max = np.min(x_values), np.max(x_values)\n",
        "    y_min, y_max = np.min(y_values), np.max(y_values)\n",
        "\n",
        "    # Create a mesh grid\n",
        "    x_grid = np.linspace(x_min, x_max, 50)\n",
        "    y_grid = np.linspace(y_min, y_max, 50)\n",
        "    X, Y = np.meshgrid(x_grid, y_grid)\n",
        "\n",
        "    # Try different interpolation methods\n",
        "    try:\n",
        "        # First try cubic interpolation\n",
        "        Z = griddata((x_values, y_values), z_values, (X, Y), method='cubic')\n",
        "\n",
        "        # If cubic interpolation has too many NaN values, fall back to linear\n",
        "        if np.isnan(Z).sum() > 0.3 * Z.size:\n",
        "            Z = griddata((x_values, y_values), z_values, (X, Y), method='linear')\n",
        "\n",
        "        # If still too many NaN values, use nearest\n",
        "        if np.isnan(Z).sum() > 0.3 * Z.size:\n",
        "            Z = griddata((x_values, y_values), z_values, (X, Y), method='nearest')\n",
        "    except Exception as e:\n",
        "        print(f\"Interpolation error: {e}\")\n",
        "        # Fall back to nearest as a last resort\n",
        "        Z = griddata((x_values, y_values), z_values, (X, Y), method='nearest')\n",
        "\n",
        "    # Create the 3D plot\n",
        "    fig = plt.figure(figsize=(10, 8))\n",
        "    ax = fig.add_subplot(111, projection='3d')\n",
        "\n",
        "    # Plot the surface\n",
        "    surf = ax.plot_surface(X, Y, Z, cmap='viridis',\n",
        "                          linewidth=0, antialiased=True, alpha=0.8)\n",
        "\n",
        "    # Add scatter points of actual data\n",
        "    scatter = ax.scatter(x_values, y_values, z_values,\n",
        "                         c=z_values, cmap='viridis',\n",
        "                         s=filtered_data['volume']/filtered_data['volume'].max()*100+20,\n",
        "                         alpha=0.6, edgecolors='black')\n",
        "\n",
        "    # Set labels and title\n",
        "    ax.set_xlabel(x_label)\n",
        "    ax.set_ylabel('Time to Expiry (days)')\n",
        "    ax.set_zlabel('Implied Volatility')\n",
        "    ax.set_title(f'Implied Volatility Surface on {date.strftime(\"%Y-%m-%d\")}')\n",
        "\n",
        "    # Improve view angle\n",
        "    ax.view_init(30, 45)\n",
        "\n",
        "    # Add a color bar\n",
        "    fig.colorbar(surf, ax=ax, shrink=0.5, aspect=5, label='Implied Volatility')\n",
        "\n",
        "    # Save high-quality figure\n",
        "    plt.savefig(f'vol_surface_{date.strftime(\"%Y%m%d\")}.png', dpi=300, bbox_inches='tight', pad_inches=0.2)\n",
        "    plt.close()\n",
        "\n",
        "    # # Create an additional 2D contour plot for better visualization\n",
        "    # fig, ax = plt.subplots(figsize=(12, 8))\n",
        "    # contour = ax.contourf(X, Y, Z, 20, cmap='viridis')\n",
        "    # ax.scatter(x_values, y_values, c=z_values, cmap='viridis',\n",
        "    #            s=filtered_data['volume']/filtered_data['volume'].max()*100+20,\n",
        "    #            alpha=0.6, edgecolors='black')\n",
        "\n",
        "    # plt.colorbar(contour, label='Implied Volatility')\n",
        "    # ax.set_xlabel(x_label)\n",
        "    # ax.set_ylabel('Time to Expiry (days)')\n",
        "    # ax.set_title(f'Implied Volatility Contour on {date.strftime(\"%Y-%m-%d\")}')\n",
        "    # plt.savefig(f'vol_contour_{date.strftime(\"%Y%m%d\")}.png', dpi=300)#, bbox_inches='tight')\n",
        "    # plt.close()\n",
        "\n",
        "    return fig"
      ]
    },
    {
      "cell_type": "code",
      "execution_count": null,
      "metadata": {
        "id": "DOR8BExWihZw"
      },
      "outputs": [],
      "source": [
        "# Plot implied volatility surfaces for high volume dates\n",
        "for _, row in high_volume_dates.iterrows():\n",
        "    plot_vol_surface(dat, row['date'])"
      ]
    },
    {
      "cell_type": "markdown",
      "metadata": {},
      "source": [
        "## TS volatility"
      ]
    },
    {
      "cell_type": "code",
      "execution_count": 129,
      "metadata": {
        "id": "r3N6TdM4ikNn"
      },
      "outputs": [],
      "source": [
        "\n",
        "# Additional analysis: Time series of implied volatility by moneyness\n",
        "# Calculate moneyness (assuming SPX spot price is the average of ATM options strike)\n",
        "def calculate_moneyness(row):\n",
        "    if pd.isna(row['forward_price']):\n",
        "        # If forward price is not available, use a proxy\n",
        "        # This is a simplified approach - in reality you'd use the actual spot price\n",
        "        return row['strike_price'] / 1000  # Example scaling, replace with actual logic\n",
        "    else:\n",
        "        return row['strike_price'] / row['forward_price']\n",
        "\n",
        "dat['moneyness'] = dat.apply(calculate_moneyness, axis=1)"
      ]
    },
    {
      "cell_type": "code",
      "execution_count": null,
      "metadata": {},
      "outputs": [],
      "source": [
        "\n",
        "# Group data by date and moneyness category\n",
        "def moneyness_category(m):\n",
        "    if m < 0.95:\n",
        "        return 'Deep OTM'\n",
        "    elif m < 0.98:\n",
        "        return 'OTM'\n",
        "    elif m < 1.02:\n",
        "        return 'ATM'\n",
        "    elif m < 1.05:\n",
        "        return 'ITM'\n",
        "    else:\n",
        "        return 'Deep ITM'\n",
        "\n",
        "dat['moneyness_category'] = dat['moneyness'].apply(moneyness_category)\n",
        "\n",
        "# Calculate average implied volatility by date and moneyness category\n",
        "vol_by_date_moneyness = dat.groupby(['date', 'moneyness_category'])['impl_volatility'].mean().reset_index()\n",
        "vol_pivot = vol_by_date_moneyness.pivot(index='date', columns='moneyness_category', values='impl_volatility')\n",
        "\n",
        "# Plot time series\n",
        "plt.figure(figsize=(12, 8))\n",
        "for column in vol_pivot.columns:\n",
        "    plt.plot(vol_pivot.index, vol_pivot[column], label=column)\n",
        "\n",
        "plt.title('Implied Volatility by Moneyness Over Time')\n",
        "plt.xlabel('Date')\n",
        "plt.ylabel('Average Implied Volatility')\n",
        "plt.legend()\n",
        "plt.grid(True)\n",
        "plt.xticks(rotation=45)\n",
        "plt.tight_layout()\n",
        "plt.savefig('iv_by_moneyness_time_series.png')\n",
        "plt.close()\n"
      ]
    },
    {
      "cell_type": "markdown",
      "metadata": {},
      "source": [
        "# Statistics"
      ]
    },
    {
      "cell_type": "code",
      "execution_count": 151,
      "metadata": {
        "id": "l7R2CYuekLlm"
      },
      "outputs": [],
      "source": [
        "# Function to create summary statistics tables\n",
        "def summary_statistics(data, group_col=None):\n",
        "    metrics = ['time_to_expiry', 'moneyness', 'bid_ask_spread_pct', 'impl_volatility', 'delta', 'gamma', 'vega', 'theta']\n",
        "\n",
        "    if group_col:\n",
        "        result = data.groupby(group_col)[metrics].agg(['mean', 'median', 'min', 'max', 'std', 'size'])\n",
        "        result = {k : v.stack().droplevel(0) for k, v in result.groupby(level=0, axis=0)}\n",
        "    else:\n",
        "        result = data[metrics].agg(['mean', 'median', 'min', 'max', 'std', 'size']).reset_index()\n",
        "\n",
        "    return result"
      ]
    },
    {
      "cell_type": "code",
      "execution_count": 152,
      "metadata": {},
      "outputs": [
        {
          "data": {
            "text/plain": [
              "{'C':         time_to_expiry      moneyness  bid_ask_spread_pct  impl_volatility  \\\n",
              " mean         77.328102    4235.421301            6.368024         0.186488   \n",
              " median       32.000000    4190.000000            1.587302         0.177066   \n",
              " min           1.000000     100.000000            0.000000         0.032648   \n",
              " max        2002.000000   12000.000000          184.000000         8.916361   \n",
              " std         135.229608     462.821309           15.528479         0.088362   \n",
              " size     644979.000000  644979.000000       644979.000000    644979.000000   \n",
              " \n",
              "                 delta          gamma           vega          theta  \n",
              " mean         0.377134       0.001416     413.034466    -435.167242  \n",
              " median       0.351380       0.001063     313.217400    -334.641900  \n",
              " min          0.000350       0.000000       0.123417   -8681.899000  \n",
              " max          0.995979       0.019950    3782.842000     110.516300  \n",
              " std          0.287090       0.001330     387.065266     470.406355  \n",
              " size    644979.000000  644979.000000  644979.000000  644979.000000  ,\n",
              " 'P':         time_to_expiry      moneyness  bid_ask_spread_pct  impl_volatility  \\\n",
              " mean         74.508803    3704.387488            6.286719         0.269796   \n",
              " median       34.000000    3800.000000            1.801802         0.242473   \n",
              " min           1.000000     200.000000            0.000000         0.042974   \n",
              " max        2003.000000   12000.000000          187.878788         4.803859   \n",
              " std         121.597288     596.841399           13.754538         0.126661   \n",
              " size     991516.000000  991516.000000       991516.000000    991516.000000   \n",
              " \n",
              "                 delta          gamma           vega          theta  \n",
              " mean        -0.234885       0.000973     339.028844    -302.976123  \n",
              " median      -0.149149       0.000586     241.265100    -199.594850  \n",
              " min         -0.995985       0.000000       0.254898   -9563.833000  \n",
              " max         -0.000118       0.019896    3781.969000     430.392400  \n",
              " std          0.244475       0.001185     350.677087     378.336901  \n",
              " size    991516.000000  991516.000000  991516.000000  991516.000000  }"
            ]
          },
          "execution_count": 152,
          "metadata": {},
          "output_type": "execute_result"
        }
      ],
      "source": [
        "summary_statistics(dat, 'cp_flag')"
      ]
    },
    {
      "cell_type": "code",
      "execution_count": null,
      "metadata": {},
      "outputs": [],
      "source": [
        "\n",
        "# Create summary statistics overall and by expiry type\n",
        "overall_stats = summary_statistics(dat)\n",
        "expiry_stats = summary_statistics(dat, 'expiry_indicator')\n",
        "put_call_stats = summary_statistics(dat, 'cp_flag')\n",
        "\n",
        "# Save to CSV\n",
        "overall_stats.to_csv('overall_summary_stats.csv', index=False)\n",
        "expiry_stats.to_csv('expiry_summary_stats.csv', index=False)\n",
        "put_call_stats.to_csv('put_call_summary_stats.csv', index=False)"
      ]
    },
    {
      "cell_type": "code",
      "execution_count": 148,
      "metadata": {},
      "outputs": [
        {
          "data": {
            "text/plain": [
              "[('C',\n",
              "          time_to_expiry      moneyness  bid_ask_spread_pct  impl_volatility  \\\n",
              "  mean         77.328102    4235.421301            6.368024         0.186488   \n",
              "  median       32.000000    4190.000000            1.587302         0.177066   \n",
              "  min           1.000000     100.000000            0.000000         0.032648   \n",
              "  max        2002.000000   12000.000000          184.000000         8.916361   \n",
              "  std         135.229608     462.821309           15.528479         0.088362   \n",
              "  size     644979.000000  644979.000000       644979.000000    644979.000000   \n",
              "  \n",
              "                  delta          gamma           vega          theta  \n",
              "  mean         0.377134       0.001416     413.034466    -435.167242  \n",
              "  median       0.351380       0.001063     313.217400    -334.641900  \n",
              "  min          0.000350       0.000000       0.123417   -8681.899000  \n",
              "  max          0.995979       0.019950    3782.842000     110.516300  \n",
              "  std          0.287090       0.001330     387.065266     470.406355  \n",
              "  size    644979.000000  644979.000000  644979.000000  644979.000000  ),\n",
              " ('P',\n",
              "          time_to_expiry      moneyness  bid_ask_spread_pct  impl_volatility  \\\n",
              "  mean         74.508803    3704.387488            6.286719         0.269796   \n",
              "  median       34.000000    3800.000000            1.801802         0.242473   \n",
              "  min           1.000000     200.000000            0.000000         0.042974   \n",
              "  max        2003.000000   12000.000000          187.878788         4.803859   \n",
              "  std         121.597288     596.841399           13.754538         0.126661   \n",
              "  size     991516.000000  991516.000000       991516.000000    991516.000000   \n",
              "  \n",
              "                  delta          gamma           vega          theta  \n",
              "  mean        -0.234885       0.000973     339.028844    -302.976123  \n",
              "  median      -0.149149       0.000586     241.265100    -199.594850  \n",
              "  min         -0.995985       0.000000       0.254898   -9563.833000  \n",
              "  max         -0.000118       0.019896    3781.969000     430.392400  \n",
              "  std          0.244475       0.001185     350.677087     378.336901  \n",
              "  size    991516.000000  991516.000000  991516.000000  991516.000000  )]"
            ]
          },
          "execution_count": 148,
          "metadata": {},
          "output_type": "execute_result"
        }
      ],
      "source": [
        "[(_, group.stack().droplevel(0)) for _, group in put_call_stats.set_index('cp_flag').groupby(level=0, axis=0)]"
      ]
    },
    {
      "cell_type": "code",
      "execution_count": 19,
      "metadata": {
        "id": "jk2s2KyXj11X"
      },
      "outputs": [],
      "source": [
        "\n",
        "# Visualize the smile effect for a specific date (using the highest volume date)\n",
        "highest_vol_date = high_volume_dates.iloc[0]['date']\n",
        "smile_data = dat[dat['date'] == highest_vol_date]\n",
        "\n",
        "# Group by time to expiry and create separate plots\n",
        "unique_expiries = smile_data['time_to_expiry'].unique()\n",
        "unique_expiries.sort()\n",
        "\n",
        "for expiry in unique_expiries[:5]:  # Limit to first 5 expiries to avoid too many plots\n",
        "    expiry_data = smile_data[smile_data['time_to_expiry'] == expiry]\n",
        "    if len(expiry_data) < 5:\n",
        "        continue\n",
        "\n",
        "    plt.figure(figsize=(10, 6))\n",
        "    sns.scatterplot(data=expiry_data, x='moneyness', y='impl_volatility',\n",
        "                    hue='cp_flag', size='volume', sizes=(20, 200))\n",
        "    plt.title(f'Volatility Smile for {highest_vol_date.strftime(\"%Y-%m-%d\")} (Days to Expiry: {expiry})')\n",
        "    plt.xlabel('Moneyness (Strike/Forward)')\n",
        "    plt.ylabel('Implied Volatility')\n",
        "    plt.grid(True)\n",
        "    plt.legend()\n",
        "    plt.tight_layout()\n",
        "    plt.savefig(f'vol_smile_{highest_vol_date.strftime(\"%Y%m%d\")}_exp_{expiry}.png')\n",
        "    plt.close()\n"
      ]
    },
    {
      "cell_type": "code",
      "execution_count": null,
      "metadata": {
        "id": "JEJtDMWWkiAE"
      },
      "outputs": [],
      "source": []
    }
  ],
  "metadata": {
    "colab": {
      "provenance": []
    },
    "kernelspec": {
      "display_name": "vae-volsurface",
      "language": "python",
      "name": "python3"
    },
    "language_info": {
      "codemirror_mode": {
        "name": "ipython",
        "version": 3
      },
      "file_extension": ".py",
      "mimetype": "text/x-python",
      "name": "python",
      "nbconvert_exporter": "python",
      "pygments_lexer": "ipython3",
      "version": "3.10.16"
    }
  },
  "nbformat": 4,
  "nbformat_minor": 0
}
